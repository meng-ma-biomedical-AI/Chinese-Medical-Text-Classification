{
 "cells": [
  {
   "cell_type": "markdown",
   "metadata": {},
   "source": [
    "# 基于逻辑回归模型的医学短文本分类"
   ]
  },
  {
   "cell_type": "markdown",
   "metadata": {},
   "source": [
    "## 目录\n",
    "* [准备数据](#准备数据)\n",
    "   * [载入训练数据](#载入训练数据)\n",
    "   * [载入测试数据](#载入训练数据)\n",
    "* [特征构建](#特征构建)\n",
    "   * [基于TF-IDF算法将文本转换为向量表示](#基于TF-IDF算法将文本转换为向量表示)\n",
    "   * [将类别转换为数字表示](#将类别转换为数字表示)\n",
    "* [模型训练](#模型训练)\n",
    "   * [模型调参](#模型调参)\n",
    "   * [模型训练](#模型训练)\n",
    "   * [模型预测](#模型预测)\n",
    "   * [模型保存](#模型保存)\n",
    "* [模型评估](#模型评估)\n",
    "   * [测试集预测](#测试集预测)\n",
    "   * [混淆矩阵](#混淆矩阵)\n",
    "   * [准确率、召回率、F1值](#准确率、召回率、F1值)"
   ]
  },
  {
   "cell_type": "markdown",
   "metadata": {},
   "source": [
    "导入依赖包"
   ]
  },
  {
   "cell_type": "code",
   "execution_count": 58,
   "metadata": {},
   "outputs": [],
   "source": [
    "import time #时间\n",
    "import jieba # 中文分词\n",
    "import codecs # 读取包含中文字符的文件\n",
    "import pickle # 特征，模型文件保存和读取\n",
    "import evaluation # 模型评估，我们自己的包\n",
    "\n",
    "import matplotlib # 画图\n",
    "import numpy as np # 数组和矩阵运算\n",
    "import pandas as pd # 数据处理\n",
    "import seaborn as sns # 画图\n",
    "import matplotlib.pyplot as plt # 画图\n",
    "from wordcloud import WordCloud # 词云显示\n",
    "\n",
    "from sklearn.metrics import confusion_matrix # 评估指标：混淆矩阵\n",
    "from sklearn.ensemble import RandomForestClassifier # 随机森林模型\n",
    "from sklearn.model_selection import GridSearchCV # 网格搜索交叉验证调参\n",
    "from sklearn.feature_extraction.text import CountVectorizer # 将文本中的词语转换为词频矩阵\n",
    "from sklearn.feature_extraction.text import TfidfTransformer # 用于计算每个词语的TF-IDF值\n",
    "\n",
    "%matplotlib inline"
   ]
  },
  {
   "cell_type": "markdown",
   "metadata": {},
   "source": [
    "## 准备数据"
   ]
  },
  {
   "cell_type": "markdown",
   "metadata": {},
   "source": [
    "### 载入训练数据"
   ]
  },
  {
   "cell_type": "markdown",
   "metadata": {},
   "source": [
    "从文件读取"
   ]
  },
  {
   "cell_type": "code",
   "execution_count": 2,
   "metadata": {},
   "outputs": [],
   "source": [
    "train_file = \"../../data/train.txt\" \n",
    "train_data = pd.read_csv(train_file, sep=\"\\t\", header=None, names=[\"id\", \"category\", \"sentence\"])"
   ]
  },
  {
   "cell_type": "code",
   "execution_count": 3,
   "metadata": {},
   "outputs": [
    {
     "name": "stdout",
     "output_type": "stream",
     "text": [
      "训练集数据有：8000条\n",
      "前5条数据为：\n"
     ]
    },
    {
     "data": {
      "text/html": [
       "<div>\n",
       "<style scoped>\n",
       "    .dataframe tbody tr th:only-of-type {\n",
       "        vertical-align: middle;\n",
       "    }\n",
       "\n",
       "    .dataframe tbody tr th {\n",
       "        vertical-align: top;\n",
       "    }\n",
       "\n",
       "    .dataframe thead th {\n",
       "        text-align: right;\n",
       "    }\n",
       "</style>\n",
       "<table border=\"1\" class=\"dataframe\">\n",
       "  <thead>\n",
       "    <tr style=\"text-align: right;\">\n",
       "      <th></th>\n",
       "      <th>id</th>\n",
       "      <th>category</th>\n",
       "      <th>sentence</th>\n",
       "    </tr>\n",
       "  </thead>\n",
       "  <tbody>\n",
       "    <tr>\n",
       "      <th>0</th>\n",
       "      <td>s1</td>\n",
       "      <td>Diagnostic</td>\n",
       "      <td>(2)若伴便秘者符合罗马Ⅳ功能性便秘诊断标准，若伴夜尿症者符合夜尿症的诊断标准；</td>\n",
       "    </tr>\n",
       "    <tr>\n",
       "      <th>1</th>\n",
       "      <td>s2</td>\n",
       "      <td>Therapy or Surgery</td>\n",
       "      <td>（1）患者拟行急症手术；</td>\n",
       "    </tr>\n",
       "    <tr>\n",
       "      <th>2</th>\n",
       "      <td>s3</td>\n",
       "      <td>Enrollment in other studies</td>\n",
       "      <td>c) 在过去6个月内参加过I、II期临床试验或者3个月内参加过III、IV期临床试验；</td>\n",
       "    </tr>\n",
       "    <tr>\n",
       "      <th>3</th>\n",
       "      <td>s4</td>\n",
       "      <td>Risk Assessment</td>\n",
       "      <td>4. 身高體重指數(BMI)&amp;gt;=25得病人</td>\n",
       "    </tr>\n",
       "    <tr>\n",
       "      <th>4</th>\n",
       "      <td>s5</td>\n",
       "      <td>Consent</td>\n",
       "      <td>5.愿意参与该研究并配合调查者；</td>\n",
       "    </tr>\n",
       "  </tbody>\n",
       "</table>\n",
       "</div>"
      ],
      "text/plain": [
       "   id                     category  \\\n",
       "0  s1                   Diagnostic   \n",
       "1  s2           Therapy or Surgery   \n",
       "2  s3  Enrollment in other studies   \n",
       "3  s4              Risk Assessment   \n",
       "4  s5                      Consent   \n",
       "\n",
       "                                      sentence  \n",
       "0     (2)若伴便秘者符合罗马Ⅳ功能性便秘诊断标准，若伴夜尿症者符合夜尿症的诊断标准；  \n",
       "1                                 （1）患者拟行急症手术；  \n",
       "2  c) 在过去6个月内参加过I、II期临床试验或者3个月内参加过III、IV期临床试验；  \n",
       "3                     4. 身高體重指數(BMI)&gt;=25得病人  \n",
       "4                             5.愿意参与该研究并配合调查者；  "
      ]
     },
     "execution_count": 3,
     "metadata": {},
     "output_type": "execute_result"
    }
   ],
   "source": [
    "print(\"训练集数据有：{}条\".format(len(train_data)))\n",
    "print(\"前5条数据为：\")\n",
    "train_data.head(5)"
   ]
  },
  {
   "cell_type": "markdown",
   "metadata": {},
   "source": [
    "训练数据的类别，及其对应的数目："
   ]
  },
  {
   "cell_type": "code",
   "execution_count": 4,
   "metadata": {},
   "outputs": [
    {
     "name": "stdout",
     "output_type": "stream",
     "text": [
      "                            category  count\n",
      "0                 Addictive Behavior    196\n",
      "1                                Age    638\n",
      "2                Allergy Intolerance    430\n",
      "3           Compliance with Protocol    294\n",
      "4                            Consent    874\n",
      "5                         Diagnostic    794\n",
      "6                            Disease   1177\n",
      "7        Enrollment in other studies    358\n",
      "8            Laboratory Examinations    755\n",
      "9                    Life Expectancy    101\n",
      "10            Organ or Tissue Status    258\n",
      "11  Pharmaceutical Substance or Drug    578\n",
      "12                   Risk Assessment    442\n",
      "13                    Smoking Status     33\n",
      "14                Therapy or Surgery   1072\n"
     ]
    },
    {
     "data": {
      "image/png": "[encoded data removed]",
      "text/plain": [
       "<Figure size 1080x360 with 1 Axes>"
      ]
     },
     "metadata": {
      "needs_background": "light"
     },
     "output_type": "display_data"
    }
   ],
   "source": [
    "category_count = train_data.groupby(['category'],  as_index=False)['category'].agg({'count': 'count'})\n",
    "fig, ax = plt.subplots(figsize=(15, 5))\n",
    "fig = sns.barplot(x=category_count[\"category\"], y=category_count[\"count\"], palette=\"deep\", ax=ax)\n",
    "_ = ax.set_xticklabels(labels=category_count[\"category\"], rotation=45, ha='right')\n",
    "print(category_count)"
   ]
  },
  {
   "cell_type": "markdown",
   "metadata": {},
   "source": [
    "### 载入测试数据"
   ]
  },
  {
   "cell_type": "code",
   "execution_count": 5,
   "metadata": {},
   "outputs": [],
   "source": [
    "test_file = \"../../data/test.txt\" \n",
    "test_data = pd.read_csv(test_file, sep=\"\\t\", header=None, names=[\"id\", \"sentence\"])"
   ]
  },
  {
   "cell_type": "code",
   "execution_count": 6,
   "metadata": {},
   "outputs": [
    {
     "name": "stdout",
     "output_type": "stream",
     "text": [
      "测试集数据有：2000条\n",
      "前5条数据为：\n"
     ]
    },
    {
     "data": {
      "text/html": [
       "<div>\n",
       "<style scoped>\n",
       "    .dataframe tbody tr th:only-of-type {\n",
       "        vertical-align: middle;\n",
       "    }\n",
       "\n",
       "    .dataframe tbody tr th {\n",
       "        vertical-align: top;\n",
       "    }\n",
       "\n",
       "    .dataframe thead th {\n",
       "        text-align: right;\n",
       "    }\n",
       "</style>\n",
       "<table border=\"1\" class=\"dataframe\">\n",
       "  <thead>\n",
       "    <tr style=\"text-align: right;\">\n",
       "      <th></th>\n",
       "      <th>id</th>\n",
       "      <th>sentence</th>\n",
       "    </tr>\n",
       "  </thead>\n",
       "  <tbody>\n",
       "    <tr>\n",
       "      <th>0</th>\n",
       "      <td>s1</td>\n",
       "      <td>1.符合脓毒症诊断Sepsis 3.0版标准；</td>\n",
       "    </tr>\n",
       "    <tr>\n",
       "      <th>1</th>\n",
       "      <td>s2</td>\n",
       "      <td>1）符合WHO对不孕症的诊断标准；</td>\n",
       "    </tr>\n",
       "    <tr>\n",
       "      <th>2</th>\n",
       "      <td>s3</td>\n",
       "      <td>3. 肿瘤直径 ≥8mm且≤30mm;</td>\n",
       "    </tr>\n",
       "    <tr>\n",
       "      <th>3</th>\n",
       "      <td>s4</td>\n",
       "      <td>8.合并其他运动可能加重的神经、肌肉、骨骼肌、风湿性疾病；</td>\n",
       "    </tr>\n",
       "    <tr>\n",
       "      <th>4</th>\n",
       "      <td>s5</td>\n",
       "      <td>2. 符合国际疾病分类（ICD-10）编码 J21 的毛细支气管炎诊断标准。</td>\n",
       "    </tr>\n",
       "  </tbody>\n",
       "</table>\n",
       "</div>"
      ],
      "text/plain": [
       "   id                                sentence\n",
       "0  s1                 1.符合脓毒症诊断Sepsis 3.0版标准；\n",
       "1  s2                       1）符合WHO对不孕症的诊断标准；\n",
       "2  s3                     3. 肿瘤直径 ≥8mm且≤30mm;\n",
       "3  s4           8.合并其他运动可能加重的神经、肌肉、骨骼肌、风湿性疾病；\n",
       "4  s5  2. 符合国际疾病分类（ICD-10）编码 J21 的毛细支气管炎诊断标准。"
      ]
     },
     "execution_count": 6,
     "metadata": {},
     "output_type": "execute_result"
    }
   ],
   "source": [
    "print(\"测试集数据有：{}条\".format(len(test_data)))\n",
    "print(\"前5条数据为：\")\n",
    "test_data.head(5)"
   ]
  },
  {
   "cell_type": "markdown",
   "metadata": {},
   "source": [
    "## 特征构建"
   ]
  },
  {
   "cell_type": "markdown",
   "metadata": {},
   "source": [
    "**tf-idf**（英语：term frequency–inverse document frequency）是一种用于信息检索与文本挖掘的常用加权技术。<br>\n",
    "**tf-idf**是一种统计方法，用以评估一字词对于一个文件集或一个语料库中的其中一份文件的重要程度。字词的重要性随着它在文件中出现的次数成正比增加，但同时会随着它在语料库中出现的频率成反比下降。<br>\n",
    "\n",
    "在一份给定的文件里，**词频**（term frequency，tf）指的是某一个给定的词语在该文件中出现的频率。这个数字是对**词数**（term count）的归一化，以防止它偏向长的文件。（同一个词语在长文件里可能会比短文件有更高的词数，而不管该词语重要与否。）<br>\n",
    "\n",
    "对于在某一特定文件里的词语$t_i$来说，它的重要性可表示为：<br>\n",
    "$$ tf_{i,j} = {n_{i,j} \\over \\sum_{k} n_{k,j}}  \\tag{1}$$\n",
    "\n",
    "以上式子中$n_{i,j}$是该词在文件$d_j$中的出现次数，而分母则是在文件$d_j$中所有字词的出现次数之和。<br>\n",
    "\n",
    "**逆向文件频率**（inverse document frequency，idf）是一个词语普遍重要性的度量。某一特定词语的idf，可以由总文件数目除以包含该词语之文件的数目，再将得到的商取以10为底的对数得到：<br>\n",
    "$$idf_i = lg {|D| \\over |\\{j:t_i\\in d_j\\}+1|} \\tag{2}$$\n",
    "\n",
    "其中<br>\n",
    "* $|D|$：语料库中的文件总数\n",
    "* $|\\{j:t_i\\in d_j\\}|$：包含词语的文件数目（即的文件数目）如果词语不在资料中，就导致分母为零，因此一般情况下使用$|\\{j:t_i\\in d_j\\}+1|$\n",
    "\n",
    "然后<br>\n",
    "$$tf-idf_{i,j} = tf_{i,j} * idf_i  \\tag{3}$$\n",
    "\n",
    "某一特定文件内的高词语频率，以及该词语在整个文件集合中的低文件频率，可以产生出高权重的tf-idf。因此，tf-idf倾向于过滤掉常见的词语，保留重要的词语。"
   ]
  },
  {
   "cell_type": "markdown",
   "metadata": {},
   "source": [
    "### 基于TF-IDF算法将文本转换为向量表示"
   ]
  },
  {
   "cell_type": "code",
   "execution_count": 17,
   "metadata": {},
   "outputs": [],
   "source": [
    "def tfidf(sentences, max_features=500):\n",
    "    # 使用jieba进行中文分词，并以空格隔开。\n",
    "    preprocess_setences = []\n",
    "    for sentence in sentences:\n",
    "        words = [word for word in jieba.cut(sentence)]\n",
    "        preprocess_setences.append(' '.join(words))\n",
    "\n",
    "    # 根据词频选择词量，确定词向量维度\n",
    "    vectorizer = CountVectorizer(max_features=max_features, binary='true')   # 将文本中的词语转换为词频矩阵\n",
    "    word_counts = vectorizer.fit_transform(preprocess_setences) # 计算每个词语出现的次数\n",
    "    pickle.dump(vectorizer.vocabulary_,open(\"RF_tfidf_feat.pkl\",\"wb\"))\n",
    "    \n",
    "    # 保存词语，词频\n",
    "    with open(\"RF_tfidf_voca.txt\", \"w\") as f:  \n",
    "        for word, freq in vectorizer.vocabulary_.items():\n",
    "            f.write(\"{}\\t{}\\n\".format(word, freq))\n",
    "    \n",
    "    # 计算TF-IDF\n",
    "    transformer = TfidfTransformer()\n",
    "    tfidf = transformer.fit_transform(word_counts)\n",
    "    return list(tfidf.toarray())"
   ]
  },
  {
   "cell_type": "markdown",
   "metadata": {},
   "source": [
    "将训练数据的文本表示为向量"
   ]
  },
  {
   "cell_type": "code",
   "execution_count": 18,
   "metadata": {},
   "outputs": [],
   "source": [
    "train_text = train_data['sentence'].tolist()\n",
    "result = tfidf(train_text, max_features=500)\n",
    "train_X = [np.array(i) for i in result]"
   ]
  },
  {
   "cell_type": "markdown",
   "metadata": {},
   "source": [
    "以词云显示筛选的构建词向量的词"
   ]
  },
  {
   "cell_type": "code",
   "execution_count": 19,
   "metadata": {},
   "outputs": [
    {
     "ename": "FileNotFoundError",
     "evalue": "[Errno 2] No such file or directory: 'LR_tfidf_voca.txt'",
     "output_type": "error",
     "traceback": [
      "\u001b[1;31m---------------------------------------------------------------------------\u001b[0m",
      "\u001b[1;31mFileNotFoundError\u001b[0m                         Traceback (most recent call last)",
      "\u001b[1;32m<ipython-input-19-366fdd44ce2b>\u001b[0m in \u001b[0;36m<module>\u001b[1;34m\u001b[0m\n\u001b[0;32m      1\u001b[0m \u001b[0mcloud_words\u001b[0m \u001b[1;33m=\u001b[0m \u001b[1;33m[\u001b[0m\u001b[1;33m]\u001b[0m\u001b[1;33m\u001b[0m\u001b[1;33m\u001b[0m\u001b[0m\n\u001b[1;32m----> 2\u001b[1;33m \u001b[1;32mwith\u001b[0m \u001b[0mopen\u001b[0m\u001b[1;33m(\u001b[0m\u001b[1;34m\"LR_tfidf_voca.txt\"\u001b[0m\u001b[1;33m,\u001b[0m \u001b[1;34m\"r\"\u001b[0m\u001b[1;33m)\u001b[0m \u001b[1;32mas\u001b[0m \u001b[0mf\u001b[0m\u001b[1;33m:\u001b[0m\u001b[1;33m\u001b[0m\u001b[1;33m\u001b[0m\u001b[0m\n\u001b[0m\u001b[0;32m      3\u001b[0m     \u001b[1;32mfor\u001b[0m \u001b[0mline\u001b[0m \u001b[1;32min\u001b[0m \u001b[0mf\u001b[0m\u001b[1;33m:\u001b[0m\u001b[1;33m\u001b[0m\u001b[1;33m\u001b[0m\u001b[0m\n\u001b[0;32m      4\u001b[0m         \u001b[0ml\u001b[0m \u001b[1;33m=\u001b[0m \u001b[0mline\u001b[0m\u001b[1;33m.\u001b[0m\u001b[0mstrip\u001b[0m\u001b[1;33m(\u001b[0m\u001b[1;33m)\u001b[0m\u001b[1;33m.\u001b[0m\u001b[0msplit\u001b[0m\u001b[1;33m(\u001b[0m\u001b[1;34m\"\\t\"\u001b[0m\u001b[1;33m)\u001b[0m\u001b[1;33m\u001b[0m\u001b[1;33m\u001b[0m\u001b[0m\n\u001b[0;32m      5\u001b[0m         \u001b[0mcloud_words\u001b[0m\u001b[1;33m.\u001b[0m\u001b[0mextend\u001b[0m\u001b[1;33m(\u001b[0m\u001b[1;33m[\u001b[0m\u001b[0ml\u001b[0m\u001b[1;33m[\u001b[0m\u001b[1;36m0\u001b[0m\u001b[1;33m]\u001b[0m\u001b[1;33m]\u001b[0m \u001b[1;33m*\u001b[0m \u001b[0mint\u001b[0m\u001b[1;33m(\u001b[0m\u001b[0ml\u001b[0m\u001b[1;33m[\u001b[0m\u001b[1;36m1\u001b[0m\u001b[1;33m]\u001b[0m\u001b[1;33m)\u001b[0m\u001b[1;33m)\u001b[0m\u001b[1;33m\u001b[0m\u001b[1;33m\u001b[0m\u001b[0m\n",
      "\u001b[1;31mFileNotFoundError\u001b[0m: [Errno 2] No such file or directory: 'LR_tfidf_voca.txt'"
     ]
    }
   ],
   "source": [
    "cloud_words = []\n",
    "with open(\"LR_tfidf_voca.txt\", \"r\") as f:\n",
    "    for line in f:\n",
    "        l = line.strip().split(\"\\t\")\n",
    "        cloud_words.extend([l[0]] * int(l[1]))\n",
    "\n",
    "wordcloud = WordCloud(background_color=\"white\", collocations=False, max_words=1000, font_path=\"C:\\\\Windows\\\\Fonts\\\\msyh.ttc\").generate(\" \".join(cloud_words))\n",
    "\n",
    "plt.figure(figsize=(10, 5))\n",
    "plt.imshow(wordcloud, interpolation='bilinear')\n",
    "plt.axis(\"off\")"
   ]
  },
  {
   "cell_type": "markdown",
   "metadata": {},
   "source": [
    "### 将类别转换为数字表示"
   ]
  },
  {
   "cell_type": "markdown",
   "metadata": {},
   "source": [
    "将15个类别转换为数字0-14"
   ]
  },
  {
   "cell_type": "code",
   "execution_count": 20,
   "metadata": {},
   "outputs": [
    {
     "name": "stdout",
     "output_type": "stream",
     "text": [
      "\u001b[32m                 Addictive Behavior\u001b[0m >>>>>>>>>>>>>>>>>>>> \u001b[31m0 \u001b[0m\n",
      "\u001b[32m                                Age\u001b[0m >>>>>>>>>>>>>>>>>>>> \u001b[31m1 \u001b[0m\n",
      "\u001b[32m                Allergy Intolerance\u001b[0m >>>>>>>>>>>>>>>>>>>> \u001b[31m2 \u001b[0m\n",
      "\u001b[32m           Compliance with Protocol\u001b[0m >>>>>>>>>>>>>>>>>>>> \u001b[31m3 \u001b[0m\n",
      "\u001b[32m                            Consent\u001b[0m >>>>>>>>>>>>>>>>>>>> \u001b[31m4 \u001b[0m\n",
      "\u001b[32m                         Diagnostic\u001b[0m >>>>>>>>>>>>>>>>>>>> \u001b[31m5 \u001b[0m\n",
      "\u001b[32m                            Disease\u001b[0m >>>>>>>>>>>>>>>>>>>> \u001b[31m6 \u001b[0m\n",
      "\u001b[32m        Enrollment in other studies\u001b[0m >>>>>>>>>>>>>>>>>>>> \u001b[31m7 \u001b[0m\n",
      "\u001b[32m            Laboratory Examinations\u001b[0m >>>>>>>>>>>>>>>>>>>> \u001b[31m8 \u001b[0m\n",
      "\u001b[32m                    Life Expectancy\u001b[0m >>>>>>>>>>>>>>>>>>>> \u001b[31m9 \u001b[0m\n",
      "\u001b[32m             Organ or Tissue Status\u001b[0m >>>>>>>>>>>>>>>>>>>> \u001b[31m10\u001b[0m\n",
      "\u001b[32m   Pharmaceutical Substance or Drug\u001b[0m >>>>>>>>>>>>>>>>>>>> \u001b[31m11\u001b[0m\n",
      "\u001b[32m                    Risk Assessment\u001b[0m >>>>>>>>>>>>>>>>>>>> \u001b[31m12\u001b[0m\n",
      "\u001b[32m                     Smoking Status\u001b[0m >>>>>>>>>>>>>>>>>>>> \u001b[31m13\u001b[0m\n",
      "\u001b[32m                 Therapy or Surgery\u001b[0m >>>>>>>>>>>>>>>>>>>> \u001b[31m14\u001b[0m\n"
     ]
    }
   ],
   "source": [
    "categories = sorted(list(set(list(train_data['category']))))\n",
    "category2tag = dict()\n",
    "tag2category = dict()\n",
    "for i, category in enumerate(categories):\n",
    "    category2tag[category] = i\n",
    "    tag2category[i] = category\n",
    "    print(\"\\x1b[32m{:>35}\\x1b[0m >>>>>>>>>>>>>>>>>>>> \\x1b[31m{:<2}\\x1b[0m\".format(category, i))"
   ]
  },
  {
   "cell_type": "markdown",
   "metadata": {},
   "source": [
    "将训练数据的类别标签全都转换为数字0-14"
   ]
  },
  {
   "cell_type": "code",
   "execution_count": 21,
   "metadata": {},
   "outputs": [
    {
     "name": "stdout",
     "output_type": "stream",
     "text": [
      "[ 5 14  7 ...  4  4  1]\n"
     ]
    }
   ],
   "source": [
    "train_y = np.array([category2tag[c] for c in train_data['category']])\n",
    "print(train_y)"
   ]
  },
  {
   "cell_type": "markdown",
   "metadata": {},
   "source": [
    "## 模型训练"
   ]
  },
  {
   "cell_type": "markdown",
   "metadata": {},
   "source": [
    "### 模型调参"
   ]
  },
  {
   "cell_type": "markdown",
   "metadata": {},
   "source": [
    "网格搜索交叉验证调参"
   ]
  },
  {
   "cell_type": "code",
   "execution_count": 46,
   "metadata": {},
   "outputs": [
    {
     "name": "stdout",
     "output_type": "stream",
     "text": [
      "tuning took 13.629185199737549s!\n"
     ]
    }
   ],
   "source": [
    "start_time = time.time()\n",
    "lr = RandomForestClassifier(random_state=2021)\n",
    "parameters = {'max_depth': [3, 5, 10], \n",
    "              'n_estimators': [20, 30, 50]}\n",
    "clf = GridSearchCV(lr, parameters, cv=5)\n",
    "clf.fit(train_X, train_y)\n",
    "print(\"tuning took {}s!\".format(time.time() - start_time))"
   ]
  },
  {
   "cell_type": "markdown",
   "metadata": {},
   "source": [
    "查看不同参数下的分数和排名"
   ]
  },
  {
   "cell_type": "code",
   "execution_count": 47,
   "metadata": {},
   "outputs": [
    {
     "data": {
      "text/html": [
       "<div>\n",
       "<style scoped>\n",
       "    .dataframe tbody tr th:only-of-type {\n",
       "        vertical-align: middle;\n",
       "    }\n",
       "\n",
       "    .dataframe tbody tr th {\n",
       "        vertical-align: top;\n",
       "    }\n",
       "\n",
       "    .dataframe thead th {\n",
       "        text-align: right;\n",
       "    }\n",
       "</style>\n",
       "<table border=\"1\" class=\"dataframe\">\n",
       "  <thead>\n",
       "    <tr style=\"text-align: right;\">\n",
       "      <th></th>\n",
       "      <th>max_depth</th>\n",
       "      <th>n_estimators</th>\n",
       "      <th>rank_test_score</th>\n",
       "      <th>mean_test_score</th>\n",
       "    </tr>\n",
       "  </thead>\n",
       "  <tbody>\n",
       "    <tr>\n",
       "      <th>8</th>\n",
       "      <td>10</td>\n",
       "      <td>50</td>\n",
       "      <td>1</td>\n",
       "      <td>0.688375</td>\n",
       "    </tr>\n",
       "    <tr>\n",
       "      <th>6</th>\n",
       "      <td>10</td>\n",
       "      <td>20</td>\n",
       "      <td>2</td>\n",
       "      <td>0.686750</td>\n",
       "    </tr>\n",
       "    <tr>\n",
       "      <th>7</th>\n",
       "      <td>10</td>\n",
       "      <td>30</td>\n",
       "      <td>3</td>\n",
       "      <td>0.681500</td>\n",
       "    </tr>\n",
       "    <tr>\n",
       "      <th>5</th>\n",
       "      <td>5</td>\n",
       "      <td>50</td>\n",
       "      <td>4</td>\n",
       "      <td>0.595375</td>\n",
       "    </tr>\n",
       "    <tr>\n",
       "      <th>4</th>\n",
       "      <td>5</td>\n",
       "      <td>30</td>\n",
       "      <td>5</td>\n",
       "      <td>0.573500</td>\n",
       "    </tr>\n",
       "    <tr>\n",
       "      <th>3</th>\n",
       "      <td>5</td>\n",
       "      <td>20</td>\n",
       "      <td>6</td>\n",
       "      <td>0.571000</td>\n",
       "    </tr>\n",
       "    <tr>\n",
       "      <th>2</th>\n",
       "      <td>3</td>\n",
       "      <td>50</td>\n",
       "      <td>7</td>\n",
       "      <td>0.546500</td>\n",
       "    </tr>\n",
       "    <tr>\n",
       "      <th>0</th>\n",
       "      <td>3</td>\n",
       "      <td>20</td>\n",
       "      <td>8</td>\n",
       "      <td>0.540250</td>\n",
       "    </tr>\n",
       "    <tr>\n",
       "      <th>1</th>\n",
       "      <td>3</td>\n",
       "      <td>30</td>\n",
       "      <td>9</td>\n",
       "      <td>0.527250</td>\n",
       "    </tr>\n",
       "  </tbody>\n",
       "</table>\n",
       "</div>"
      ],
      "text/plain": [
       "   max_depth  n_estimators  rank_test_score  mean_test_score\n",
       "8         10            50                1         0.688375\n",
       "6         10            20                2         0.686750\n",
       "7         10            30                3         0.681500\n",
       "5          5            50                4         0.595375\n",
       "4          5            30                5         0.573500\n",
       "3          5            20                6         0.571000\n",
       "2          3            50                7         0.546500\n",
       "0          3            20                8         0.540250\n",
       "1          3            30                9         0.527250"
      ]
     },
     "execution_count": 47,
     "metadata": {},
     "output_type": "execute_result"
    }
   ],
   "source": [
    "clf_results = pd.DataFrame(clf.cv_results_[\"params\"])\n",
    "clf_results[\"rank_test_score\"] = clf.cv_results_[\"rank_test_score\"]\n",
    "clf_results[\"mean_test_score\"] = clf.cv_results_[\"mean_test_score\"]\n",
    "clf_results.sort_values(\"rank_test_score\",inplace=True)\n",
    "clf_results"
   ]
  },
  {
   "cell_type": "markdown",
   "metadata": {},
   "source": [
    "### 模型训练"
   ]
  },
  {
   "cell_type": "markdown",
   "metadata": {},
   "source": [
    "获得性能最好的参数"
   ]
  },
  {
   "cell_type": "code",
   "execution_count": 48,
   "metadata": {},
   "outputs": [
    {
     "name": "stdout",
     "output_type": "stream",
     "text": [
      "{'max_depth': 10, 'n_estimators': 50}\n"
     ]
    }
   ],
   "source": [
    "best_params = clf.best_params_\n",
    "print(best_params)"
   ]
  },
  {
   "cell_type": "markdown",
   "metadata": {},
   "source": [
    "使用最优搭配参数训练模型"
   ]
  },
  {
   "cell_type": "code",
   "execution_count": 49,
   "metadata": {},
   "outputs": [
    {
     "name": "stdout",
     "output_type": "stream",
     "text": [
      "training took 0.862041711807251s!\n"
     ]
    }
   ],
   "source": [
    "start_time = time.time()\n",
    "model = RandomForestClassifier(random_state=2021, max_depth=best_params['max_depth'], n_estimators=best_params['n_estimators'])\n",
    "model.fit(train_X, train_y)\n",
    "print(\"training took {}s!\".format(time.time() - start_time))"
   ]
  },
  {
   "cell_type": "markdown",
   "metadata": {},
   "source": [
    "### 模型预测"
   ]
  },
  {
   "cell_type": "markdown",
   "metadata": {},
   "source": [
    "输入一条句子进行预测"
   ]
  },
  {
   "cell_type": "code",
   "execution_count": 50,
   "metadata": {},
   "outputs": [],
   "source": [
    "def predict(sentence):\n",
    "    words = [word for word in jieba.cut(sentence)]\n",
    "    sentence1 = ' '.join(words)\n",
    "\n",
    "    vectorizer = CountVectorizer(decode_error=\"replace\",vocabulary=pickle.load(open(\"RF_tfidf_feat.pkl\", \"rb\")))\n",
    "    sentence2 = vectorizer.transform([sentence1])\n",
    "    transformer = TfidfTransformer()\n",
    "    tfidf = transformer.fit_transform(sentence2)\n",
    "    sentence3 = tfidf.toarray()\n",
    "\n",
    "    predicts = model.predict(sentence3)\n",
    "    predict_category = tag2category[predicts[0]]\n",
    "    return predict_category"
   ]
  },
  {
   "cell_type": "code",
   "execution_count": 51,
   "metadata": {},
   "outputs": [
    {
     "name": "stdout",
     "output_type": "stream",
     "text": [
      "\u001b[36m                   白细胞计数升高或大于10^9/L\u001b[0m >>>>>>>>>>>>>>>>>>>> \u001b[35mDisease             \u001b[0m\n",
      "\u001b[36m                            有糖尿病的患者\u001b[0m >>>>>>>>>>>>>>>>>>>> \u001b[35mDisease             \u001b[0m\n",
      "\u001b[36m                        术后发生非计划再次手术\u001b[0m >>>>>>>>>>>>>>>>>>>> \u001b[35mTherapy or Surgery  \u001b[0m\n"
     ]
    }
   ],
   "source": [
    "for s in [\"白细胞计数升高或大于10^9/L\", \"有糖尿病的患者\", \"术后发生非计划再次手术\"]:\n",
    "    print(\"\\x1b[36m{:>35}\\x1b[0m >>>>>>>>>>>>>>>>>>>> \\x1b[35m{:<20}\\x1b[0m\".format(s, predict(s)))"
   ]
  },
  {
   "cell_type": "markdown",
   "metadata": {},
   "source": [
    "### 模型保存"
   ]
  },
  {
   "cell_type": "code",
   "execution_count": 52,
   "metadata": {},
   "outputs": [],
   "source": [
    "model_save_file = \"RF_model.mkl\"\n",
    "pickle.dump(model, open(model_save_file, 'wb'))"
   ]
  },
  {
   "cell_type": "markdown",
   "metadata": {},
   "source": [
    "## 模型评估"
   ]
  },
  {
   "cell_type": "markdown",
   "metadata": {},
   "source": [
    "### 测试集预测"
   ]
  },
  {
   "cell_type": "markdown",
   "metadata": {},
   "source": [
    "读取测试集的人工标注结果"
   ]
  },
  {
   "cell_type": "code",
   "execution_count": 53,
   "metadata": {},
   "outputs": [],
   "source": [
    "test_true = list()\n",
    "with codecs.open(\"../../data/test_gold.txt\", \"r\", encoding=\"utf-8\") as f:\n",
    "    test_true = [line.strip().split(\"\\t\")[1] for line in f]"
   ]
  },
  {
   "cell_type": "markdown",
   "metadata": {},
   "source": [
    "读取测试集，预测类别，并保存结果"
   ]
  },
  {
   "cell_type": "code",
   "execution_count": 54,
   "metadata": {},
   "outputs": [
    {
     "name": "stdout",
     "output_type": "stream",
     "text": [
      "[processing]:100/2000    \n",
      "[precit]:\u001b[35mDisease                                 \u001b[0m [true]:\u001b[32mLaboratory Examinations                                                         \u001b[0m\n",
      "[text]：\u001b[36mc)白细胞计数升高或大于10^9/L\u001b[0m\n",
      "[processing]:200/2000    \n",
      "[precit]:\u001b[35mDisease                                 \u001b[0m [true]:\u001b[32mDisease                                                                         \u001b[0m\n",
      "[text]：\u001b[36m2)目标眼有增殖性糖尿病视网膜病变（PDR）\u001b[0m\n",
      "[processing]:300/2000    \n",
      "[precit]:\u001b[35mDisease                                 \u001b[0m [true]:\u001b[32mOrgan or Tissue Status                                                          \u001b[0m\n",
      "[text]：\u001b[36m1. 凝血功能障碍；\u001b[0m\n",
      "[processing]:400/2000    \n",
      "[precit]:\u001b[35mDiagnostic                              \u001b[0m [true]:\u001b[32mConsent                                                                         \u001b[0m\n",
      "[text]：\u001b[36m(5)同意参加本研究，同时符合以上标准者可纳入本研究。\u001b[0m\n",
      "[processing]:500/2000    \n",
      "[precit]:\u001b[35mPharmaceutical Substance or Drug        \u001b[0m [true]:\u001b[32mPharmaceutical Substance or Drug                                                \u001b[0m\n",
      "[text]：\u001b[36m3）使用抗凝药（如华法令、低分子量肝素）和抗血小板聚集药物的患者；\u001b[0m\n",
      "[processing]:600/2000    \n",
      "[precit]:\u001b[35mDisease                                 \u001b[0m [true]:\u001b[32mDiagnostic                                                                      \u001b[0m\n",
      "[text]：\u001b[36m3.中医辨证分型属于气滞血瘀、寒湿凝滞型；\u001b[0m\n",
      "[processing]:700/2000    \n",
      "[precit]:\u001b[35mDisease                                 \u001b[0m [true]:\u001b[32mLaboratory Examinations                                                         \u001b[0m\n",
      "[text]：\u001b[36m4）中重度高碳酸血症（PaCO2＞65和pH值＜7.28）患者\u001b[0m\n",
      "[processing]:800/2000    \n",
      "[precit]:\u001b[35mConsent                                 \u001b[0m [true]:\u001b[32mConsent                                                                         \u001b[0m\n",
      "[text]：\u001b[36m7）愿意参加本试验并签署知情同意书。\u001b[0m\n",
      "[processing]:900/2000    \n",
      "[precit]:\u001b[35mAge                                     \u001b[0m [true]:\u001b[32mAge                                                                             \u001b[0m\n",
      "[text]：\u001b[36m6. 年龄&gt;90岁的高龄老人；\u001b[0m\n",
      "[processing]:1000/2000    \n",
      "[precit]:\u001b[35mLaboratory Examinations                 \u001b[0m [true]:\u001b[32mLaboratory Examinations                                                         \u001b[0m\n",
      "[text]：\u001b[36m3.肾功能损伤（BUN和/或Cr&gt;正常值上限）；\u001b[0m\n",
      "[processing]:1100/2000    \n",
      "[precit]:\u001b[35mAge                                     \u001b[0m [true]:\u001b[32mAge                                                                             \u001b[0m\n",
      "[text]：\u001b[36m2.年龄20-50岁;\u001b[0m\n",
      "[processing]:1200/2000    \n",
      "[precit]:\u001b[35mTherapy or Surgery                      \u001b[0m [true]:\u001b[32mTherapy or Surgery                                                              \u001b[0m\n",
      "[text]：\u001b[36m4、排除入组前1个月已经或正在接受系统的心理治疗。\u001b[0m\n",
      "[processing]:1300/2000    \n",
      "[precit]:\u001b[35mConsent                                 \u001b[0m [true]:\u001b[32mConsent                                                                         \u001b[0m\n",
      "[text]：\u001b[36m1）试验前签署知情同意书、并对试验内容、过程及可能出现的不良反应充分了解；\u001b[0m\n",
      "[processing]:1400/2000    \n",
      "[precit]:\u001b[35mLaboratory Examinations                 \u001b[0m [true]:\u001b[32mLaboratory Examinations                                                         \u001b[0m\n",
      "[text]：\u001b[36m6）卧位收缩压&lt;90mmHg或&gt;180mmHg；\u001b[0m\n",
      "[processing]:1500/2000    \n",
      "[precit]:\u001b[35mAge                                     \u001b[0m [true]:\u001b[32mAge                                                                             \u001b[0m\n",
      "[text]：\u001b[36m年龄：18岁以上\u001b[0m\n",
      "[processing]:1600/2000    \n",
      "[precit]:\u001b[35mDisease                                 \u001b[0m [true]:\u001b[32mDisease                                                                         \u001b[0m\n",
      "[text]：\u001b[36m8.精神、神经障碍，不能正确表达意愿及沟通障碍者；\u001b[0m\n",
      "[processing]:1700/2000    \n",
      "[precit]:\u001b[35mDisease                                 \u001b[0m [true]:\u001b[32mRisk Assessment                                                                 \u001b[0m\n",
      "[text]：\u001b[36m3.相关医疗记录足够评估病人心血管疾病风险。\u001b[0m\n",
      "[processing]:1800/2000    \n",
      "[precit]:\u001b[35mLaboratory Examinations                 \u001b[0m [true]:\u001b[32mLaboratory Examinations                                                         \u001b[0m\n",
      "[text]：\u001b[36m（7）血常规：血红蛋白≧90g/L；中性粒细胞计数≧1.5×109/L；血小板计数≧100×109/L；\u001b[0m\n",
      "[processing]:1900/2000    \n",
      "[precit]:\u001b[35mDisease                                 \u001b[0m [true]:\u001b[32mTherapy or Surgery                                                              \u001b[0m\n",
      "[text]：\u001b[36m3.高旋转中心重建髋臼\u001b[0m\n",
      "[processing]:2000/2000    \n",
      "[precit]:\u001b[35mDiagnostic                              \u001b[0m [true]:\u001b[32mDiagnostic                                                                      \u001b[0m\n",
      "[text]：\u001b[36m3、 西医诊断标准：采用ICD-10诊断标准F41.1广泛性焦虑障碍、F41.2焦虑和抑郁混合障碍诊断标准。\u001b[0m\n"
     ]
    }
   ],
   "source": [
    "test_pred = list()\n",
    "test_sentences = list(test_data[\"sentence\"])\n",
    "n = 0\n",
    "with codecs.open(\"RF_test_predict.txt\", \"w\", encoding=\"utf-8\") as f:\n",
    "    for s in test_sentences:\n",
    "        n += 1\n",
    "        c = predict(s)\n",
    "        test_pred.append(c)\n",
    "        f.write(\"s{}\\t{}\\t{}\\n\".format(n,c,s))\n",
    "        if n%100==0: \n",
    "            print(\"[processing]:{}/{}    \".format(n, len(test_sentences)))\n",
    "            print(\"[precit]:\\x1b[35m{:<40}\\x1b[0m [true]:\\x1b[32m{:<80}\\x1b[0m\".format(c, test_true[n-1]))\n",
    "            print(\"[text]：\\x1b[36m{:>0}\\x1b[0m\".format(s))"
   ]
  },
  {
   "cell_type": "markdown",
   "metadata": {},
   "source": [
    "### 混淆矩阵"
   ]
  },
  {
   "cell_type": "markdown",
   "metadata": {},
   "source": [
    "使用混淆矩阵展示预测结果"
   ]
  },
  {
   "cell_type": "code",
   "execution_count": 55,
   "metadata": {},
   "outputs": [
    {
     "data": {
      "image/png": "[encoded data removed]",
      "text/plain": [
       "<Figure size 720x720 with 1 Axes>"
      ]
     },
     "metadata": {
      "needs_background": "light"
     },
     "output_type": "display_data"
    }
   ],
   "source": [
    "confusion = confusion_matrix(test_true, test_pred)\n",
    "plt.figure(figsize=(10, 10))\n",
    "plt.imshow(confusion, cmap=plt.cm.Blues)\n",
    "indices = range(len(confusion))\n",
    "plt.xticks(indices, categories, rotation=45, ha='right')\n",
    "plt.yticks(indices, categories)\n",
    "# plt.colorbar()\n",
    "plt.xlabel('predict')\n",
    "plt.ylabel('true')\n",
    "for first_index in range(len(confusion)):\n",
    "    for second_index in range(len(confusion[first_index])):\n",
    "        plt.text(first_index, second_index, confusion[first_index][second_index])"
   ]
  },
  {
   "cell_type": "markdown",
   "metadata": {},
   "source": [
    "### 准确率、召回率、F1值"
   ]
  },
  {
   "cell_type": "markdown",
   "metadata": {},
   "source": [
    "评价指标包括准确率，召回率和 $F1$ 值。并分别在宏平均和微平均两个水平上进行评估。<br>\n",
    "假设有 $n$ 个类别： $C_1$, ..., $C_i$, ..., $C_n$, <br>\n",
    "则各类别的准确率 $Precision_i$ 计算公式为<br>\n",
    "$$Precision_i = {正确预测为C_i类的样本个数\\over 预测为C_i类的样本个数} \\tag{1}$$ <br>\n",
    "\n",
    "各类别的召回率 $Recall_i$ 计算公式为<br>\n",
    "$$Recall_i = {正确预测为C_i类的样本个数\\over 真实的C_i类的样本个数} \\tag{2}$$ <br>\n",
    "\n",
    "宏平均准确率计算公式为<br>\n",
    "$$宏平均准确率 = {1\\over n}\\sum_{i=1}^n Precision_i \\tag{3}$$ <br>\n",
    "\n",
    "宏平均召回率计算公式为<br>\n",
    "$$宏平均召回率 = {1\\over n}\\sum_{i=1}^n Recall_i \\tag{4}$$ <br>\n",
    "\n",
    "宏平均 $F1$ 值计算公式为<br>\n",
    "$$宏平均F1值 = {1\\over n}\\sum_{i=1}^n {2*Precision_i*Recall_i \\over Precision_i+Recall_i} \\tag{5}$$ <br>"
   ]
  },
  {
   "cell_type": "code",
   "execution_count": 59,
   "metadata": {
    "scrolled": false
   },
   "outputs": [
    {
     "name": "stdout",
     "output_type": "stream",
     "text": [
      "**************************************** Evaluation Results ****************************************\n",
      "                                       Precision.       Recall.          f1.            \n",
      "                 Addictive Behavior    1.0000           0.4400           0.6111         \n",
      "                                Age    0.9739           0.9371           0.9551         \n",
      "                Allergy Intolerance    0.9596           0.8796           0.9179         \n",
      "           Compliance with Protocol    1.0000           0.2432           0.3913         \n",
      "                            Consent    0.9952           0.9498           0.9720         \n",
      "                         Diagnostic    0.8133           0.6818           0.7418         \n",
      "                            Disease    0.3571           0.8503           0.5030         \n",
      "        Enrollment in other studies    0.9390           0.8556           0.8953         \n",
      "            Laboratory Examinations    0.8816           0.3564           0.5076         \n",
      "                    Life Expectancy    0.0000           0.0000           0.0000         \n",
      "             Organ or Tissue Status    0.8780           0.5538           0.6792         \n",
      "   Pharmaceutical Substance or Drug    0.7114           0.7361           0.7235         \n",
      "                    Risk Assessment    0.9683           0.5648           0.7135         \n",
      "                     Smoking Status    0.0000           0.0000           0.0000         \n",
      "                 Therapy or Surgery    0.7252           0.6007           0.6571         \n",
      "                                       ---------------  ---------------  ---------------\n",
      "                    Overall (micro)    0.6925           0.6925           0.692500       \n",
      "                    Overall (macro)    0.7468           0.5766           0.617898(final ranking metric)                  \n"
     ]
    }
   ],
   "source": [
    "results = evaluation.Record_results('../../data/test_gold.txt', 'RF_test_predict.txt')\n",
    "evaluation = evaluation.Evaluation(results.records)"
   ]
  },
  {
   "cell_type": "code",
   "execution_count": null,
   "metadata": {},
   "outputs": [],
   "source": []
  }
 ],
 "metadata": {
  "kernelspec": {
   "display_name": "Python 3",
   "language": "python",
   "name": "python3"
  },
  "language_info": {
   "codemirror_mode": {
    "name": "ipython",
    "version": 3
   },
   "file_extension": ".py",
   "mimetype": "text/x-python",
   "name": "python",
   "nbconvert_exporter": "python",
   "pygments_lexer": "ipython3",
   "version": "3.7.3"
  },
  "toc": {
   "base_numbering": 1,
   "nav_menu": {},
   "number_sections": true,
   "sideBar": true,
   "skip_h1_title": false,
   "title_cell": "Table of Contents",
   "title_sidebar": "Contents",
   "toc_cell": false,
   "toc_position": {
    "height": "calc(100% - 180px)",
    "left": "10px",
    "top": "150px",
    "width": "207px"
   },
   "toc_section_display": true,
   "toc_window_display": true
  }
 },
 "nbformat": 4,
 "nbformat_minor": 2
}
