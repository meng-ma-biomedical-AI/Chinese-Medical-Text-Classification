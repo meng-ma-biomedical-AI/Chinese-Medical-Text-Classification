{
 "cells": [
  {
   "cell_type": "markdown",
   "metadata": {},
   "source": [
    "# 训练K-近邻算法(KNN)模型，进行医学文本分类"
   ]
  },
  {
   "cell_type": "markdown",
   "metadata": {},
   "source": [
    "## 1. 获得训练数据，测试数据"
   ]
  },
  {
   "cell_type": "code",
   "execution_count": 1,
   "metadata": {},
   "outputs": [
    {
     "name": "stderr",
     "output_type": "stream",
     "text": [
      "C:\\Users\\310272293\\AppData\\Local\\Continuum\\anaconda3\\lib\\site-packages\\sklearn\\externals\\joblib\\__init__.py:15: DeprecationWarning: sklearn.externals.joblib is deprecated in 0.21 and will be removed in 0.23. Please import this functionality directly from joblib, which can be installed with: pip install joblib. If this warning is raised when loading pickled models, you may need to re-serialize those models with scikit-learn 0.21+.\n",
      "  warnings.warn(msg, category=DeprecationWarning)\n"
     ]
    }
   ],
   "source": [
    "import codecs\n",
    "import numpy as np\n",
    "import pandas as pd\n",
    "import jieba\n",
    "import pickle\n",
    "import time\n",
    "from sklearn.externals import joblib\n",
    "from sklearn.feature_extraction.text import CountVectorizer,TfidfTransformer\n",
    "from sklearn.model_selection import train_test_split\n",
    "import matplotlib.pyplot as plt\n",
    "from wordcloud import WordCloud"
   ]
  },
  {
   "cell_type": "code",
   "execution_count": 2,
   "metadata": {},
   "outputs": [
    {
     "name": "stdout",
     "output_type": "stream",
     "text": [
      "训练集数据有：8000条\n",
      "测试集数据有：2000条\n"
     ]
    }
   ],
   "source": [
    "# 导入数据\n",
    "# 这是训练数据\n",
    "train_file = \"../data/train.data\" \n",
    "train_data = pd.read_csv(train_file, sep=\"\\t\", header=None, names=[\"id\", \"category\", \"sentence\"])\n",
    "\n",
    "# 这是测试数据\n",
    "test_file = \"../data/test.data\" \n",
    "test_data = pd.read_csv(test_file, sep=\"\\t\", header=None, names=[\"id\", \"sentence\"])\n",
    "print(\"训练集数据有：{}条\".format(len(train_data)))\n",
    "print(\"测试集数据有：{}条\".format(len(test_data)))"
   ]
  },
  {
   "cell_type": "code",
   "execution_count": 3,
   "metadata": {},
   "outputs": [
    {
     "data": {
      "text/html": [
       "<div>\n",
       "<style scoped>\n",
       "    .dataframe tbody tr th:only-of-type {\n",
       "        vertical-align: middle;\n",
       "    }\n",
       "\n",
       "    .dataframe tbody tr th {\n",
       "        vertical-align: top;\n",
       "    }\n",
       "\n",
       "    .dataframe thead th {\n",
       "        text-align: right;\n",
       "    }\n",
       "</style>\n",
       "<table border=\"1\" class=\"dataframe\">\n",
       "  <thead>\n",
       "    <tr style=\"text-align: right;\">\n",
       "      <th></th>\n",
       "      <th>id</th>\n",
       "      <th>category</th>\n",
       "      <th>sentence</th>\n",
       "    </tr>\n",
       "  </thead>\n",
       "  <tbody>\n",
       "    <tr>\n",
       "      <th>0</th>\n",
       "      <td>s1</td>\n",
       "      <td>Diagnostic</td>\n",
       "      <td>(2)若伴便秘者符合罗马Ⅳ功能性便秘诊断标准，若伴夜尿症者符合夜尿症的诊断标准；</td>\n",
       "    </tr>\n",
       "    <tr>\n",
       "      <th>1</th>\n",
       "      <td>s2</td>\n",
       "      <td>Therapy or Surgery</td>\n",
       "      <td>（1）患者拟行急症手术；</td>\n",
       "    </tr>\n",
       "    <tr>\n",
       "      <th>2</th>\n",
       "      <td>s3</td>\n",
       "      <td>Enrollment in other studies</td>\n",
       "      <td>c) 在过去6个月内参加过I、II期临床试验或者3个月内参加过III、IV期临床试验；</td>\n",
       "    </tr>\n",
       "    <tr>\n",
       "      <th>3</th>\n",
       "      <td>s4</td>\n",
       "      <td>Risk Assessment</td>\n",
       "      <td>4. 身高體重指數(BMI)&amp;gt;=25得病人</td>\n",
       "    </tr>\n",
       "    <tr>\n",
       "      <th>4</th>\n",
       "      <td>s5</td>\n",
       "      <td>Consent</td>\n",
       "      <td>5.愿意参与该研究并配合调查者；</td>\n",
       "    </tr>\n",
       "    <tr>\n",
       "      <th>5</th>\n",
       "      <td>s6</td>\n",
       "      <td>Organ or Tissue Status</td>\n",
       "      <td>（3）术前合并严重肝肾功能不全者；</td>\n",
       "    </tr>\n",
       "    <tr>\n",
       "      <th>6</th>\n",
       "      <td>s7</td>\n",
       "      <td>Laboratory Examinations</td>\n",
       "      <td>ii.筛选访视时在血清HBV DNA≥107copies/mL</td>\n",
       "    </tr>\n",
       "    <tr>\n",
       "      <th>7</th>\n",
       "      <td>s8</td>\n",
       "      <td>Age</td>\n",
       "      <td>3，绝经后患者。</td>\n",
       "    </tr>\n",
       "    <tr>\n",
       "      <th>8</th>\n",
       "      <td>s9</td>\n",
       "      <td>Consent</td>\n",
       "      <td>⑥患者及家属知情同意并签署知情同意书。</td>\n",
       "    </tr>\n",
       "    <tr>\n",
       "      <th>9</th>\n",
       "      <td>s10</td>\n",
       "      <td>Laboratory Examinations</td>\n",
       "      <td>(17)血红蛋白低于90g/L；</td>\n",
       "    </tr>\n",
       "  </tbody>\n",
       "</table>\n",
       "</div>"
      ],
      "text/plain": [
       "    id                     category  \\\n",
       "0   s1                   Diagnostic   \n",
       "1   s2           Therapy or Surgery   \n",
       "2   s3  Enrollment in other studies   \n",
       "3   s4              Risk Assessment   \n",
       "4   s5                      Consent   \n",
       "5   s6       Organ or Tissue Status   \n",
       "6   s7      Laboratory Examinations   \n",
       "7   s8                          Age   \n",
       "8   s9                      Consent   \n",
       "9  s10      Laboratory Examinations   \n",
       "\n",
       "                                      sentence  \n",
       "0     (2)若伴便秘者符合罗马Ⅳ功能性便秘诊断标准，若伴夜尿症者符合夜尿症的诊断标准；  \n",
       "1                                 （1）患者拟行急症手术；  \n",
       "2  c) 在过去6个月内参加过I、II期临床试验或者3个月内参加过III、IV期临床试验；  \n",
       "3                     4. 身高體重指數(BMI)&gt;=25得病人  \n",
       "4                             5.愿意参与该研究并配合调查者；  \n",
       "5                            （3）术前合并严重肝肾功能不全者；  \n",
       "6              ii.筛选访视时在血清HBV DNA≥107copies/mL  \n",
       "7                                     3，绝经后患者。  \n",
       "8                          ⑥患者及家属知情同意并签署知情同意书。  \n",
       "9                             (17)血红蛋白低于90g/L；  "
      ]
     },
     "execution_count": 3,
     "metadata": {},
     "output_type": "execute_result"
    }
   ],
   "source": [
    "# 展示前10条训练数据\n",
    "train_data.head(10)"
   ]
  },
  {
   "cell_type": "code",
   "execution_count": 4,
   "metadata": {},
   "outputs": [
    {
     "data": {
      "text/html": [
       "<div>\n",
       "<style scoped>\n",
       "    .dataframe tbody tr th:only-of-type {\n",
       "        vertical-align: middle;\n",
       "    }\n",
       "\n",
       "    .dataframe tbody tr th {\n",
       "        vertical-align: top;\n",
       "    }\n",
       "\n",
       "    .dataframe thead th {\n",
       "        text-align: right;\n",
       "    }\n",
       "</style>\n",
       "<table border=\"1\" class=\"dataframe\">\n",
       "  <thead>\n",
       "    <tr style=\"text-align: right;\">\n",
       "      <th></th>\n",
       "      <th>category</th>\n",
       "      <th>count</th>\n",
       "    </tr>\n",
       "  </thead>\n",
       "  <tbody>\n",
       "    <tr>\n",
       "      <th>0</th>\n",
       "      <td>Addictive Behavior</td>\n",
       "      <td>196</td>\n",
       "    </tr>\n",
       "    <tr>\n",
       "      <th>1</th>\n",
       "      <td>Age</td>\n",
       "      <td>638</td>\n",
       "    </tr>\n",
       "    <tr>\n",
       "      <th>2</th>\n",
       "      <td>Allergy Intolerance</td>\n",
       "      <td>430</td>\n",
       "    </tr>\n",
       "    <tr>\n",
       "      <th>3</th>\n",
       "      <td>Compliance with Protocol</td>\n",
       "      <td>294</td>\n",
       "    </tr>\n",
       "    <tr>\n",
       "      <th>4</th>\n",
       "      <td>Consent</td>\n",
       "      <td>874</td>\n",
       "    </tr>\n",
       "    <tr>\n",
       "      <th>5</th>\n",
       "      <td>Diagnostic</td>\n",
       "      <td>794</td>\n",
       "    </tr>\n",
       "    <tr>\n",
       "      <th>6</th>\n",
       "      <td>Disease</td>\n",
       "      <td>1177</td>\n",
       "    </tr>\n",
       "    <tr>\n",
       "      <th>7</th>\n",
       "      <td>Enrollment in other studies</td>\n",
       "      <td>358</td>\n",
       "    </tr>\n",
       "    <tr>\n",
       "      <th>8</th>\n",
       "      <td>Laboratory Examinations</td>\n",
       "      <td>755</td>\n",
       "    </tr>\n",
       "    <tr>\n",
       "      <th>9</th>\n",
       "      <td>Life Expectancy</td>\n",
       "      <td>101</td>\n",
       "    </tr>\n",
       "    <tr>\n",
       "      <th>10</th>\n",
       "      <td>Organ or Tissue Status</td>\n",
       "      <td>258</td>\n",
       "    </tr>\n",
       "    <tr>\n",
       "      <th>11</th>\n",
       "      <td>Pharmaceutical Substance or Drug</td>\n",
       "      <td>578</td>\n",
       "    </tr>\n",
       "    <tr>\n",
       "      <th>12</th>\n",
       "      <td>Risk Assessment</td>\n",
       "      <td>442</td>\n",
       "    </tr>\n",
       "    <tr>\n",
       "      <th>13</th>\n",
       "      <td>Smoking Status</td>\n",
       "      <td>33</td>\n",
       "    </tr>\n",
       "    <tr>\n",
       "      <th>14</th>\n",
       "      <td>Therapy or Surgery</td>\n",
       "      <td>1072</td>\n",
       "    </tr>\n",
       "  </tbody>\n",
       "</table>\n",
       "</div>"
      ],
      "text/plain": [
       "                            category  count\n",
       "0                 Addictive Behavior    196\n",
       "1                                Age    638\n",
       "2                Allergy Intolerance    430\n",
       "3           Compliance with Protocol    294\n",
       "4                            Consent    874\n",
       "5                         Diagnostic    794\n",
       "6                            Disease   1177\n",
       "7        Enrollment in other studies    358\n",
       "8            Laboratory Examinations    755\n",
       "9                    Life Expectancy    101\n",
       "10            Organ or Tissue Status    258\n",
       "11  Pharmaceutical Substance or Drug    578\n",
       "12                   Risk Assessment    442\n",
       "13                    Smoking Status     33\n",
       "14                Therapy or Surgery   1072"
      ]
     },
     "execution_count": 4,
     "metadata": {},
     "output_type": "execute_result"
    }
   ],
   "source": [
    "# 查看训练数据的类别，及其数目\n",
    "train_data.groupby(['category'],  as_index=False)['category'].agg({'count': 'count'})"
   ]
  },
  {
   "cell_type": "code",
   "execution_count": 5,
   "metadata": {},
   "outputs": [
    {
     "data": {
      "text/html": [
       "<div>\n",
       "<style scoped>\n",
       "    .dataframe tbody tr th:only-of-type {\n",
       "        vertical-align: middle;\n",
       "    }\n",
       "\n",
       "    .dataframe tbody tr th {\n",
       "        vertical-align: top;\n",
       "    }\n",
       "\n",
       "    .dataframe thead th {\n",
       "        text-align: right;\n",
       "    }\n",
       "</style>\n",
       "<table border=\"1\" class=\"dataframe\">\n",
       "  <thead>\n",
       "    <tr style=\"text-align: right;\">\n",
       "      <th></th>\n",
       "      <th>id</th>\n",
       "      <th>sentence</th>\n",
       "    </tr>\n",
       "  </thead>\n",
       "  <tbody>\n",
       "    <tr>\n",
       "      <th>0</th>\n",
       "      <td>s1</td>\n",
       "      <td>1.符合脓毒症诊断Sepsis 3.0版标准；</td>\n",
       "    </tr>\n",
       "    <tr>\n",
       "      <th>1</th>\n",
       "      <td>s2</td>\n",
       "      <td>1）符合WHO对不孕症的诊断标准；</td>\n",
       "    </tr>\n",
       "    <tr>\n",
       "      <th>2</th>\n",
       "      <td>s3</td>\n",
       "      <td>3. 肿瘤直径 ≥8mm且≤30mm;</td>\n",
       "    </tr>\n",
       "    <tr>\n",
       "      <th>3</th>\n",
       "      <td>s4</td>\n",
       "      <td>8.合并其他运动可能加重的神经、肌肉、骨骼肌、风湿性疾病；</td>\n",
       "    </tr>\n",
       "    <tr>\n",
       "      <th>4</th>\n",
       "      <td>s5</td>\n",
       "      <td>2. 符合国际疾病分类（ICD-10）编码 J21 的毛细支气管炎诊断标准。</td>\n",
       "    </tr>\n",
       "    <tr>\n",
       "      <th>5</th>\n",
       "      <td>s6</td>\n",
       "      <td>4.ECOG PS：0-1分；</td>\n",
       "    </tr>\n",
       "    <tr>\n",
       "      <th>6</th>\n",
       "      <td>s7</td>\n",
       "      <td>4.对造影剂、局麻药等过敏者；</td>\n",
       "    </tr>\n",
       "    <tr>\n",
       "      <th>7</th>\n",
       "      <td>s8</td>\n",
       "      <td>6. 同时参加其他临床研究</td>\n",
       "    </tr>\n",
       "    <tr>\n",
       "      <th>8</th>\n",
       "      <td>s9</td>\n",
       "      <td>⑥过敏体质者；</td>\n",
       "    </tr>\n",
       "    <tr>\n",
       "      <th>9</th>\n",
       "      <td>s10</td>\n",
       "      <td>3.受试者同意参加本试验，并签署知情同意书。</td>\n",
       "    </tr>\n",
       "  </tbody>\n",
       "</table>\n",
       "</div>"
      ],
      "text/plain": [
       "    id                                sentence\n",
       "0   s1                 1.符合脓毒症诊断Sepsis 3.0版标准；\n",
       "1   s2                       1）符合WHO对不孕症的诊断标准；\n",
       "2   s3                     3. 肿瘤直径 ≥8mm且≤30mm;\n",
       "3   s4           8.合并其他运动可能加重的神经、肌肉、骨骼肌、风湿性疾病；\n",
       "4   s5  2. 符合国际疾病分类（ICD-10）编码 J21 的毛细支气管炎诊断标准。\n",
       "5   s6                         4.ECOG PS：0-1分；\n",
       "6   s7                         4.对造影剂、局麻药等过敏者；\n",
       "7   s8                           6. 同时参加其他临床研究\n",
       "8   s9                                 ⑥过敏体质者；\n",
       "9  s10                  3.受试者同意参加本试验，并签署知情同意书。"
      ]
     },
     "execution_count": 5,
     "metadata": {},
     "output_type": "execute_result"
    }
   ],
   "source": [
    "# 展示前10条测试数据\n",
    "test_data.head(10)"
   ]
  },
  {
   "cell_type": "markdown",
   "metadata": {},
   "source": [
    "## 2. 数据格式转换"
   ]
  },
  {
   "cell_type": "markdown",
   "metadata": {},
   "source": [
    "### 2.1 把文本转换为向量，使用TF-IDF算法"
   ]
  },
  {
   "cell_type": "code",
   "execution_count": 6,
   "metadata": {},
   "outputs": [
    {
     "name": "stderr",
     "output_type": "stream",
     "text": [
      "Building prefix dict from the default dictionary ...\n",
      "Loading model from cache C:\\Users\\310272~1\\AppData\\Local\\Temp\\jieba.cache\n",
      "Loading model cost 0.592 seconds.\n",
      "Prefix dict has been built succesfully.\n"
     ]
    },
    {
     "name": "stdout",
     "output_type": "stream",
     "text": [
      "countvectorizer词表:\n",
      " {'符合': 147, '诊断': 178, '标准': 121, '患者': 96, '手术': 103, '过去': 183, '参加': 65, 'ii': 27, '临床试验': 39, '或者': 102, 'bmi': 21, 'gt': 25, '病人': 134, '愿意': 99, '参与': 64, '研究': 142, '配合': 188, '合并': 69, '严重': 35, '肝肾': 161, '功能': 58, '筛选': 148, '血清': 172, 'ml': 29, '家属': 80, '知情': 141, '同意': 70, '签署': 149, '同意书': 71, '年龄': 84, '50': 12, '80': 17, '药物滥用': 169, '史者': 68, '急性': 92, '依从性': 49, '治疗': 128, '大于': 75, '不能': 34, '接受': 107, '长期': 191, '激素': 129, '明确': 116, '18': 7, '受试者': 66, '自愿': 166, '10': 0, '切除': 57, '试验': 179, '开始': 86, '30': 10, '天内': 76, '酗酒': 190, '存在': 78, '酒精': 189, '药物': 168, '同时': 72, '其他': 52, '恶性肿瘤': 93, '疾病': 133, '正在': 125, '使用': 48, '术前': 119, '凝血': 55, '时间': 114, '正常值': 127, '上限': 32, '以下': 43, '65': 14, '以上': 42, '病史': 136, '可能': 67, '影响': 89, '根据': 122, '需要': 195, '70': 15, '书面': 41, '术后': 120, '病理': 137, '检查': 123, '确诊': 144, '原发性': 62, '既往': 113, '放疗': 110, '检测': 124, '阳性': 192, '组前': 156, '周内': 73, '服用': 117, '任何': 45, '包括': 60, '糖尿病': 154, '高血压': 198, '精神': 151, '无法': 112, 'lt': 28, '障碍': 194, '进行': 187, '系统': 155, 'dl': 23, '目前': 139, '应用': 85, '之间': 40, '40': 11, '过敏史': 185, '12': 3, '小于': 81, '成分': 101, '过敏者': 186, '子宫': 77, '13': 4, '细胞': 157, '化疗': 61, '肿瘤': 163, '血小板': 170, '过敏': 184, '体质': 46, '已知': 83, '临床': 37, '相关': 140, '肌酐': 160, '血管': 173, '超声': 180, '病变': 135, '计数': 175, '异常': 87, '感染': 98, '控制': 108, '15': 6, '具有': 54, 'asa': 19, '评分': 177, '慢性': 100, 'ecog': 24, '结果': 158, 'ast': 20, 'uln': 31, 'alt': 18, '75': 16, '情况': 97, '患儿': 94, '周岁': 74, '血液': 171, '脏器': 165, '60': 13, '随访': 193, 'ct': 22, '转移': 182, '免疫': 50, '不全': 33, '能够': 164, '全身': 51, '麻醉': 199, '完成': 79, '方案': 111, '体重': 47, '20': 8, '神经': 145, '理解': 131, '明显': 115, '功能障碍': 59, '超过': 181, '提示': 109, '抗体': 105, '109': 1, '精神病': 153, 'mri': 30, '11': 2, '临床意义': 38, '14': 5, '分级': 56, '肾功能': 162, '小时': 82, '心脏': 90, '预计': 197, '生存期': 132, '证实': 176, '研究者': 143, '正常': 126, '拒绝': 106, '其它': 53, '要求': 174, '至少': 167, '移植': 146, '24': 9, '抑制剂': 104, '患有': 95, '精神疾病': 152, '类药物': 150, '皮质激素': 138, '预期': 196, '状态': 130, 'hiv': 26, '原因': 63, '影像学': 88, '中医': 36, '期间': 118, '耐受': 159, '心脏病': 91, '以及': 44}\n",
      "tfidf向量矩阵：\n",
      " [[0. 0. 0. ... 0. 0. 0.]\n",
      " [0. 0. 0. ... 0. 0. 0.]\n",
      " [0. 0. 0. ... 0. 0. 0.]\n",
      " ...\n",
      " [0. 0. 0. ... 0. 0. 0.]\n",
      " [0. 0. 0. ... 0. 0. 0.]\n",
      " [0. 0. 0. ... 0. 0. 0.]]\n"
     ]
    }
   ],
   "source": [
    "# 将文本转换为向量\n",
    "def tfidf(raw_text):\n",
    "    #将中文文本分词，并以空格隔开，使用jieba分词工具。\n",
    "    import jieba\n",
    "    preprocess_setences = []\n",
    "    sentences =raw_text\n",
    "    for sentence in sentences:\n",
    "        words = [word for word in jieba.cut(sentence)]\n",
    "        preprocess_setences.append(' '.join(words))\n",
    "\n",
    "    # 使用sklearn自带的CoutVectorizer模块即可简单生成特征向量\n",
    "    from sklearn.externals import joblib\n",
    "    from sklearn.feature_extraction.text import CountVectorizer,TfidfTransformer\n",
    "    \n",
    "    # 词向量的维度设定为1000，可根据情况设定，少则文本信息不足，多则增加训练时间\n",
    "    counter = CountVectorizer(max_features=200)  \n",
    "    counts = counter.fit_transform(preprocess_setences)\n",
    "    print('countvectorizer词表:\\n',counter.vocabulary_)  \n",
    "    \n",
    "    # 将词汇表输出到文件\n",
    "    with open(\"KNN_count_voca\", \"w\") as f:  \n",
    "        for word, freq in counter.vocabulary_.items():\n",
    "            f.write(\"{}\\t{}\\n\".format(word, freq))\n",
    "    # print('词向量矩阵:\\n',counts.toarray())  #fit_transform后查看具体向量\n",
    "    \n",
    "    tfidfer = TfidfTransformer()\n",
    "    tfidf = tfidfer.fit_transform(counts)\n",
    "    print('tfidf向量矩阵：\\n',tfidf.toarray())  #fit_transform后查看具体向量矩阵\n",
    "    joblib.dump(counter, 'KNN_count_vect') #保存矢量化\n",
    "    return list(tfidf.toarray())\n",
    "\n",
    "train_text = list(train_data['sentence'])\n",
    "result = tfidf(train_text)\n",
    "# 将转化后的向量保存在data_X中\n",
    "data_X = [np.array(i) for i in result]"
   ]
  },
  {
   "cell_type": "code",
   "execution_count": 7,
   "metadata": {},
   "outputs": [
    {
     "data": {
      "image/png": "[encoded data removed]",
      "text/plain": [
       "<Figure size 432x288 with 1 Axes>"
      ]
     },
     "metadata": {
      "needs_background": "light"
     },
     "output_type": "display_data"
    }
   ],
   "source": [
    "# 词云显示所选的组成词向量的词\n",
    "import matplotlib.pyplot as plt\n",
    "from wordcloud import WordCloud\n",
    "cloud_words = []\n",
    "with open(\"KNN_count_voca\", \"r\") as f:\n",
    "    for line in f:\n",
    "        l = line.strip().split(\"\\t\")\n",
    "        cloud_words.extend([l[0]] * int(l[1]))\n",
    "wordcloud_ = WordCloud(background_color=\"white\", collocations=False, max_words=1000, font_path=\"C:\\\\Windows\\\\Fonts\\\\msyh.ttc\").generate(\" \".join(cloud_words))\n",
    "\n",
    "plt.figure()\n",
    "plt.imshow(wordcloud_, interpolation='bilinear')\n",
    "plt.axis(\"off\")\n",
    "plt.show()\n"
   ]
  },
  {
   "cell_type": "markdown",
   "metadata": {},
   "source": [
    "### 2.1 将类别(15个)转换为数字(0-14)表示"
   ]
  },
  {
   "cell_type": "code",
   "execution_count": 8,
   "metadata": {},
   "outputs": [
    {
     "name": "stdout",
     "output_type": "stream",
     "text": [
      "0 Addictive Behavior\n",
      "1 Age\n",
      "2 Allergy Intolerance\n",
      "3 Compliance with Protocol\n",
      "4 Consent\n",
      "5 Diagnostic\n",
      "6 Disease\n",
      "7 Enrollment in other studies\n",
      "8 Laboratory Examinations\n",
      "9 Life Expectancy\n",
      "10 Organ or Tissue Status\n",
      "11 Pharmaceutical Substance or Drug\n",
      "12 Risk Assessment\n",
      "13 Smoking Status\n",
      "14 Therapy or Surgery\n"
     ]
    }
   ],
   "source": [
    "# 将raw_category的15个类别转换为0-14的数字\n",
    "raw_category = list(train_data['category'])\n",
    "category_ = sorted(list(set(list(train_data['category']))))\n",
    "category_index = {}\n",
    "for i in category_:\n",
    "    category_index[i] = category_.index(i)\n",
    "    print(category_.index(i), i)\n",
    "data_Y = np.array([category_index[c] for c in raw_category])"
   ]
  },
  {
   "cell_type": "markdown",
   "metadata": {},
   "source": [
    "### 2.3 查看转换后的训练数据的输入与输出格式"
   ]
  },
  {
   "cell_type": "code",
   "execution_count": 9,
   "metadata": {},
   "outputs": [
    {
     "name": "stdout",
     "output_type": "stream",
     "text": [
      "[0.         0.         0.         0.         0.         0.\n",
      " 0.         0.         0.         0.         0.         0.\n",
      " 0.         0.         0.         0.         0.         0.\n",
      " 0.         0.         0.         0.         0.         0.\n",
      " 0.         0.         0.         0.         0.         0.\n",
      " 0.         0.         0.         0.         0.         0.\n",
      " 0.         0.         0.         0.         0.         0.\n",
      " 0.         0.         0.         0.         0.         0.\n",
      " 0.         0.         0.         0.         0.         0.\n",
      " 0.         0.         0.         0.         0.         0.\n",
      " 0.         0.         0.         0.         0.         0.\n",
      " 0.         0.         0.         0.         0.         0.\n",
      " 0.         0.         0.         0.         0.         0.\n",
      " 0.         0.         0.         0.         0.         0.\n",
      " 0.         0.         0.         0.         0.         0.\n",
      " 0.         0.         0.         0.         0.         0.\n",
      " 0.56974827 0.         0.         0.         0.         0.\n",
      " 0.         0.82181927 0.         0.         0.         0.\n",
      " 0.         0.         0.         0.         0.         0.\n",
      " 0.         0.         0.         0.         0.         0.\n",
      " 0.         0.         0.         0.         0.         0.\n",
      " 0.         0.         0.         0.         0.         0.\n",
      " 0.         0.         0.         0.         0.         0.\n",
      " 0.         0.         0.         0.         0.         0.\n",
      " 0.         0.         0.         0.         0.         0.\n",
      " 0.         0.         0.         0.         0.         0.\n",
      " 0.         0.         0.         0.         0.         0.\n",
      " 0.         0.         0.         0.         0.         0.\n",
      " 0.         0.         0.         0.         0.         0.\n",
      " 0.         0.         0.         0.         0.         0.\n",
      " 0.         0.         0.         0.         0.         0.\n",
      " 0.         0.         0.         0.         0.         0.\n",
      " 0.         0.         0.         0.         0.         0.\n",
      " 0.         0.        ]\n",
      "[ 5 14  7 ...  4  4  1]\n"
     ]
    }
   ],
   "source": [
    "print(data_X[1]) #应为太大，8000条数据，只显示第一行查看一下\n",
    "print(data_Y) # 所有的类别，8000条"
   ]
  },
  {
   "cell_type": "markdown",
   "metadata": {},
   "source": [
    "## 3. 训练K-近邻模型"
   ]
  },
  {
   "cell_type": "markdown",
   "metadata": {},
   "source": [
    "### 3.1 使用训练数据训练，并保存模型"
   ]
  },
  {
   "cell_type": "code",
   "execution_count": 15,
   "metadata": {},
   "outputs": [
    {
     "name": "stdout",
     "output_type": "stream",
     "text": [
      "training took 0.128655s!\n"
     ]
    }
   ],
   "source": [
    "from sklearn.neighbors import KNeighborsClassifier\n",
    "import pickle\n",
    "import time\n",
    "\n",
    "# 训练\n",
    "start_time = time.time()\n",
    "model = KNeighborsClassifier()\n",
    "model.fit(data_X, data_Y)\n",
    "print('training took %fs!' % (time.time() - start_time))\n",
    "\n",
    "# 保存模型\n",
    "model_save_file = \"KNN.mkl\"\n",
    "pickle.dump(model, open(model_save_file, 'wb'))"
   ]
  },
  {
   "cell_type": "markdown",
   "metadata": {},
   "source": [
    "## 4. 如何预测新输入？"
   ]
  },
  {
   "cell_type": "markdown",
   "metadata": {},
   "source": [
    "### 4.1 构建预测函数"
   ]
  },
  {
   "cell_type": "code",
   "execution_count": 16,
   "metadata": {},
   "outputs": [],
   "source": [
    "import jieba\n",
    "from sklearn.externals import joblib\n",
    "from sklearn.feature_extraction.text import CountVectorizer,TfidfTransformer\n",
    "tags = (\"Addictive Behavior\", \"Age\", \"Allergy Intolerance\", \"Compliance with Protocol\", \"Consent\", \"Diagnostic\", \"Disease\", \"Enrollment in other studies\", \"Laboratory Examinations\", \"Life Expectancy\", \"Organ or Tissue Status\", \"Pharmaceutical Substance or Drug\", \"Risk Assessment\", \"Smoking Status\", \"Therapy or Surgery\")\n",
    "def predict(sentence):\n",
    "    # 利用之前的词汇构建特征向量\n",
    "    words = [word for word in jieba.cut(sentence)]\n",
    "    preprocess_s = ' '.join(words)\n",
    "\n",
    "    # 导入tf-idf词表\n",
    "    count_vect = joblib.load('KNN_count_vect')\n",
    "    tfidfer = TfidfTransformer()\n",
    "    X_new_counts = count_vect.transform([preprocess_s])\n",
    "    tfidf = tfidfer.fit_transform(X_new_counts)\n",
    "    criteria_X = tfidf.toarray()\n",
    "\n",
    "    # 使用之前训练的参数，进行预测\n",
    "    predict_inputs = model.predict(criteria_X)\n",
    "    predict_results = tags[predict_inputs[0]]\n",
    "    return predict_results"
   ]
  },
  {
   "cell_type": "markdown",
   "metadata": {},
   "source": [
    "### 4.2 输入一条句子，进行预测"
   ]
  },
  {
   "cell_type": "code",
   "execution_count": 17,
   "metadata": {},
   "outputs": [
    {
     "data": {
      "text/plain": [
       "'Laboratory Examinations'"
      ]
     },
     "execution_count": 17,
     "metadata": {},
     "output_type": "execute_result"
    }
   ],
   "source": [
    "# 输入一条新句子\n",
    "# s = \"3.有糖尿病的患者。\"\n",
    "# s = \"1.术后发生非计划再次手术；\"\n",
    "s = \"白细胞计数升高或大于10^9/L\"\n",
    "predict(s)"
   ]
  },
  {
   "cell_type": "markdown",
   "metadata": {},
   "source": [
    "### 4.3 输入一份文件，进行预测，并保存结果"
   ]
  },
  {
   "cell_type": "code",
   "execution_count": 18,
   "metadata": {},
   "outputs": [
    {
     "name": "stdout",
     "output_type": "stream",
     "text": [
      "[INFO] Processing: 10/2000 \t Consent                                            3.受试者同意参加本试验，并签署知情同意书。\n",
      "[INFO] Processing: 20/2000 \t Consent                                            1.了解试验全过程，自愿参加并签署知情同意书；\n",
      "[INFO] Processing: 30/2000 \t Therapy or Surgery                                 4.近期手术史   \n",
      "[INFO] Processing: 40/2000 \t Diagnostic                                         1）符合MCI诊断标准\n",
      "[INFO] Processing: 50/2000 \t Disease                                            （8）病情未得到控制的高血压患者；\n",
      "[INFO] Processing: 60/2000 \t Age                                                1、年龄≥18岁； \n",
      "[INFO] Processing: 70/2000 \t Consent                                            5.自愿签署知情同意书。\n",
      "[INFO] Processing: 80/2000 \t Therapy or Surgery                                 1.肝细胞肝癌根治性切除术后患者；\n",
      "[INFO] Processing: 90/2000 \t Disease                                            6.存在胃食管反流及误吸风险（胃食管反流疾病一周超过一次）\n",
      "[INFO] Processing: 100/2000 \t Laboratory Examinations                            c)白细胞计数升高或大于10^9/L\n",
      "[INFO] Processing: 110/2000 \t Age                                                ③年龄为18~70岁者\n",
      "[INFO] Processing: 120/2000 \t Enrollment in other studies                        b，家庭参与了其他食用盐实验。\n",
      "[INFO] Processing: 130/2000 \t Life Expectancy                                    5.估计生存期不超过6个月者\n",
      "[INFO] Processing: 140/2000 \t Diagnostic                                         （1）符合频繁复发性紧张型头痛或慢性紧张型头痛诊断标准；\n",
      "[INFO] Processing: 150/2000 \t Disease                                            （1）术前诊断为肝脏恶性肿瘤，术后病理学确诊系HCC；\n",
      "[INFO] Processing: 160/2000 \t Therapy or Surgery                                 3)同意在入组观察期间进行盖泽尔智力发育评价及PEABODY运动发育评价；\n",
      "[INFO] Processing: 170/2000 \t Allergy Intolerance                                (9)对所用药物过敏；\n",
      "[INFO] Processing: 180/2000 \t Addictive Behavior                                 ⑧酗酒或药物滥用者；\n",
      "[INFO] Processing: 190/2000 \t Laboratory Examinations                            #NAME?    \n",
      "[INFO] Processing: 200/2000 \t Disease                                            2)目标眼有增殖性糖尿病视网膜病变（PDR）\n",
      "[INFO] Processing: 210/2000 \t Pharmaceutical Substance or Drug                   (9) 试验前2 周内，使用过任何其他药物(包括中药)者。\n",
      "[INFO] Processing: 220/2000 \t Organ or Tissue Status                             [10]合并心、肺、脑、肾等重要脏器的功能障碍；\n",
      "[INFO] Processing: 230/2000 \t Enrollment in other studies                        1. 入组前30天内参加其它药物临床试验的病人或正在参加其它新药临床研究的患者；\n",
      "[INFO] Processing: 240/2000 \t Age                                                (2)3个月以上踝扭伤史；\n",
      "[INFO] Processing: 250/2000 \t Disease                                            （4） 有色盲、白内障、糖尿病或高血压视网膜病变、视近物障碍者；\n",
      "[INFO] Processing: 260/2000 \t Therapy or Surgery                                 1收缩压＞160mmHg，或舒张压＞100mmHg的患者；\n",
      "[INFO] Processing: 270/2000 \t Disease                                            ⑩精神疾病史及家族史者；\n",
      "[INFO] Processing: 280/2000 \t Age                                                ②18岁≤年龄≤90岁；\n",
      "[INFO] Processing: 290/2000 \t Diagnostic                                         (3)符合2014年糖尿病肾病防治专家共识提供的糖尿病肾病诊断标准患者\n",
      "[INFO] Processing: 300/2000 \t Organ or Tissue Status                             1. 凝血功能障碍；\n",
      "[INFO] Processing: 310/2000 \t Age                                                1.年龄18-70岁；\n",
      "[INFO] Processing: 320/2000 \t Consent                                            (1)在任何研究相关程序开始前获得患者签署的知情同意书。患者对本研究已充分了解并自愿签署书面知情同意书；\n",
      "[INFO] Processing: 330/2000 \t Age                                                1.年龄为3～12周岁（包含）；\n",
      "[INFO] Processing: 340/2000 \t Diagnostic                                         1）骨髓形态学及免疫学证实的新诊断的AML患者\n",
      "[INFO] Processing: 350/2000 \t Enrollment in other studies                        5.近一个月内未参加过其他临床试验；\n",
      "[INFO] Processing: 360/2000 \t Therapy or Surgery                                 （5）结肠全部或部分切除者；\n",
      "[INFO] Processing: 370/2000 \t Allergy Intolerance                                6、对多种药物过敏者；\n",
      "[INFO] Processing: 380/2000 \t Enrollment in other studies                        （14）已参加其他药物或器械临床试验的患者。\n",
      "[INFO] Processing: 390/2000 \t Risk Assessment                                    （2）美国麻醉医师协会（ASA）体检标准分类Ⅰ-Ⅱ级；\n",
      "[INFO] Processing: 400/2000 \t Consent                                            (5)同意参加本研究，同时符合以上标准者可纳入本研究。\n",
      "[INFO] Processing: 410/2000 \t Addictive Behavior                                 2)有酒精或药物滥用史者；\n",
      "[INFO] Processing: 420/2000 \t Pharmaceutical Substance or Drug                   4. 既往有精神疾病史或服用抗精神病药物病史；\n",
      "[INFO] Processing: 430/2000 \t Disease                                            经筛查新确诊的2型糖尿病者；\n",
      "[INFO] Processing: 440/2000 \t Consent                                            ⑧自愿加入本试验并签署知情同意书。\n",
      "[INFO] Processing: 450/2000 \t Diagnostic                                         （1）符合《慢性乙型肝炎防治指南2015年更新版》诊断标准的乙肝肝硬化患者；\n",
      "[INFO] Processing: 460/2000 \t Consent                                            9.患者需自愿签署知情同意书\n",
      "[INFO] Processing: 470/2000 \t Laboratory Examinations                            5.未做过放化疗者；\n",
      "[INFO] Processing: 480/2000 \t Allergy Intolerance                                3、对乙醇过敏者; \n",
      "[INFO] Processing: 490/2000 \t Disease                                            2. 反复MRD阳性的难治急性B淋巴细胞白血病，慢性B淋巴细胞白血病，髓外白血病病灶（不包括中枢神经系统白血病）。\n",
      "[INFO] Processing: 500/2000 \t Pharmaceutical Substance or Drug                   3）使用抗凝药（如华法令、低分子量肝素）和抗血小板聚集药物的患者；\n",
      "[INFO] Processing: 510/2000 \t Age                                                ①年龄30岁-80岁；\n",
      "[INFO] Processing: 520/2000 \t Allergy Intolerance                                （21）对受试药成份（包括赋形剂）过敏；\n",
      "[INFO] Processing: 530/2000 \t Therapy or Surgery                                 2) 既往接受过肾移植或其它器官移植的患者。\n",
      "[INFO] Processing: 540/2000 \t Risk Assessment                                    6)ECOG体能状况评分0或1（ECOG评分见附录I）；\n",
      "[INFO] Processing: 550/2000 \t Laboratory Examinations                            3. 择期行胸腔镜肺切除术；\n",
      "[INFO] Processing: 560/2000 \t Laboratory Examinations                            （3）深夜血浆皮质醇＞50 nmol/L（1.8 mg/dL）；如≤1.8 mg/ dL，可排除CS\n",
      "[INFO] Processing: 570/2000 \t Laboratory Examinations                            3.HbA1c≥7%且?10%；FBG?11.1 mmol/L；\n",
      "[INFO] Processing: 580/2000 \t Laboratory Examinations                            ⑧肩盂肱关节不稳； \n",
      "[INFO] Processing: 590/2000 \t Age                                                （1）年龄：18-60岁；\n",
      "[INFO] Processing: 600/2000 \t Diagnostic                                         3.中医辨证分型属于气滞血瘀、寒湿凝滞型；\n",
      "[INFO] Processing: 610/2000 \t Consent                                            6 签署知情同意书者。\n",
      "[INFO] Processing: 620/2000 \t Therapy or Surgery                                 3.入组前1个月内接受环孢霉素、雷公藤制剂免疫抑制剂等治疗且持续时间超过一周；\n",
      "[INFO] Processing: 630/2000 \t Therapy or Surgery                                 2）同时收集20例正常对照病例（无后囊膜浑浊的白内障超声乳化联合人工晶状体植入术术后患者）。\n",
      "[INFO] Processing: 640/2000 \t Diagnostic                                         3. 经检查证实由原发性高血压等其他全身性疾病所致肾病。\n",
      "[INFO] Processing: 650/2000 \t Consent                                            （8）  志愿参加，签署知情同意书，并经伦理委员会的同意。\n",
      "[INFO] Processing: 660/2000 \t Disease                                            （6）瘢痕体质或皮肤感觉障碍；\n",
      "[INFO] Processing: 670/2000 \t Disease                                            2.经检查诊断为急性化脓性扁桃体炎、下呼吸道感染、急性鼻窦炎、结核、麻疹、百日咳、白喉者；\n",
      "[INFO] Processing: 680/2000 \t Age                                                1.年龄：18 - 80岁；\n",
      "[INFO] Processing: 690/2000 \t Allergy Intolerance                                11.无阿托品、环戊通、丙美卡因、氯化苯甲烃铵过敏史\n",
      "[INFO] Processing: 700/2000 \t Therapy or Surgery                                 4）中重度高碳酸血症（PaCO2＞65和pH值＜7.28）患者\n",
      "[INFO] Processing: 710/2000 \t Consent                                            5.同意并签署知情同意书者。\n",
      "[INFO] Processing: 720/2000 \t Diagnostic                                         5.中医辨证属于湿热蕴结型或瘀血阻络型；\n",
      "[INFO] Processing: 730/2000 \t Therapy or Surgery                                 2.患者4周内曾行全身化疗或经导管灌注化疗\n",
      "[INFO] Processing: 740/2000 \t Risk Assessment                                    2、ASA分级Ⅰ-Ⅲ级；\n",
      "[INFO] Processing: 750/2000 \t Disease                                            ④严重神经肌肉疾病（如大面积的脑卒中、运动神经元病变、重症肌无力等）。\n",
      "[INFO] Processing: 760/2000 \t Therapy or Surgery                                 4、患者口服单一抗精神病药物治疗，剂量稳定，口服利培酮或奥氮平。治疗期间种类及剂量恒定不变。\n",
      "[INFO] Processing: 770/2000 \t Laboratory Examinations                            6)体格检查、生命体征正常或异常无临床意义；\n",
      "[INFO] Processing: 780/2000 \t Pharmaceutical Substance or Drug                   2.近期服用胆碱能、抗胆碱能药物或β-受体阻断剂等\n",
      "[INFO] Processing: 790/2000 \t Therapy or Surgery                                 1. 择期全麻胸腔镜下胸部手术的病人\n",
      "[INFO] Processing: 800/2000 \t Consent                                            7）愿意参加本试验并签署知情同意书。\n"
     ]
    },
    {
     "name": "stdout",
     "output_type": "stream",
     "text": [
      "[INFO] Processing: 810/2000 \t Diagnostic                                         （2）GH和IGF-1水平符合内分泌诊断标准；\n",
      "[INFO] Processing: 820/2000 \t Consent                                            2.签署知情同意书。\n",
      "[INFO] Processing: 830/2000 \t Disease                                            7.患有胰腺癌、膀胱癌等恶性肿瘤患者；\n",
      "[INFO] Processing: 840/2000 \t Disease                                            ① 既往有脑卒中、脑肿瘤、脑外伤及其他神经精神系统病史；\n",
      "[INFO] Processing: 850/2000 \t Addictive Behavior                                 3、有吸毒或药物滥用史者。\n",
      "[INFO] Processing: 860/2000 \t Pharmaceutical Substance or Drug                   7.接受药物成瘾或酒精中毒治疗或具有药物成瘾或酒精中毒病史的患者；\n",
      "[INFO] Processing: 870/2000 \t Therapy or Surgery                                 4) 盆腔手术病史；\n",
      "[INFO] Processing: 880/2000 \t Life Expectancy                                    ⑷美罗培南连续用药时间超过2天；\n",
      "[INFO] Processing: 890/2000 \t Consent                                            9．受试者必须理解并签署知情同意书。\n",
      "[INFO] Processing: 900/2000 \t Age                                                6. 年龄&gt;90岁的高龄老人；\n",
      "[INFO] Processing: 910/2000 \t Diagnostic                                         3.受试者有I型或II型糖尿病（根据病史和入院诊断，按照研究医师的观点）；\n",
      "[INFO] Processing: 920/2000 \t Therapy or Surgery                                 2)入组前4周接受过5-氟尿嘧啶或希罗达治疗者；\n",
      "[INFO] Processing: 930/2000 \t Compliance with Protocol                           (2) 患者不愿意接受临床资料调查。\n",
      "[INFO] Processing: 940/2000 \t Laboratory Examinations                            ⑺血压低于120/80mmHg；\n",
      "[INFO] Processing: 950/2000 \t Disease                                            5.血小板低于正常值下限1.5倍者；\n",
      "[INFO] Processing: 960/2000 \t Laboratory Examinations                            1.感染性骨不连。 \n",
      "[INFO] Processing: 970/2000 \t Diagnostic                                         3. 病理检查证实ER和/或PR 阴性，HER2 阴性晚期乳腺癌患者（ER 表达阳性：指免疫组化＜1%肿瘤细胞染色；PR 表达阳性：指免疫组化＜1%肿瘤细胞染色；HER2阴性：指免疫组化为0，1+，或免疫组化为 2+时FISH/CISH阴性）；\n",
      "[INFO] Processing: 980/2000 \t Therapy or Surgery                                 2)   未按计划完成放疗(放疗剂量&lt;40Gy)\n",
      "[INFO] Processing: 990/2000 \t Consent                                            6、患者知情同意，自愿参加本研究。\n",
      "[INFO] Processing: 1000/2000 \t Laboratory Examinations                            3.肾功能损伤（BUN和/或Cr&gt;正常值上限）；\n",
      "[INFO] Processing: 1010/2000 \t Allergy Intolerance                                ⑸ 过敏体质，或对多种药物食物过敏者，或已知对试验药（包括其组方成份）过敏的患者。\n",
      "[INFO] Processing: 1020/2000 \t Pharmaceutical Substance or Drug                   （3）1个月内无抗生素服用史\n",
      "[INFO] Processing: 1030/2000 \t Enrollment in other studies                        (5) 同时接受其他临床研究的试验性治疗（处于临床研究的治疗期）；\n",
      "[INFO] Processing: 1040/2000 \t Disease                                            4）稳定性心绞痛、不稳定性心绞痛和非 ST 段抬高急性心肌梗死患者\n",
      "[INFO] Processing: 1050/2000 \t Diagnostic                                         4)已经确诊其他病因引起的关节炎；\n",
      "[INFO] Processing: 1060/2000 \t Enrollment in other studies                        1. 3个月内参加过其他临床研究；\n",
      "[INFO] Processing: 1070/2000 \t Consent                                            1）自愿参加本项临床研究，并签署知情同意书；\n",
      "[INFO] Processing: 1080/2000 \t Consent                                            ⑵理解并且自愿签署经伦理委员会批准的知情同意书；\n",
      "[INFO] Processing: 1090/2000 \t Consent                                            (5）签署知情同意书者。\n",
      "[INFO] Processing: 1100/2000 \t Age                                                2.年龄20-50岁;\n",
      "[INFO] Processing: 1110/2000 \t Age                                                (4)年龄60-75岁者；\n",
      "[INFO] Processing: 1120/2000 \t Diagnostic                                         6)骨扫描证实骨转移灶&gt;5个单位；\n",
      "[INFO] Processing: 1130/2000 \t Age                                                3.年龄60~85岁；\n",
      "[INFO] Processing: 1140/2000 \t Allergy Intolerance                                （6）药物过敏史患者；\n",
      "[INFO] Processing: 1150/2000 \t Age                                                2.年龄&lt;18岁\n",
      "[INFO] Processing: 1160/2000 \t Pharmaceutical Substance or Drug                   6、因高血压等疾病治疗期间须服用钙离子通道阻滞剂、血管紧张素转换酶抑制剂的等含降肺动脉高压的药物的；\n",
      "[INFO] Processing: 1170/2000 \t Addictive Behavior                                 （7）有酗酒史者（每日饮酒150ml以上）或具有酒精依赖综合征表现者。\n",
      "[INFO] Processing: 1180/2000 \t Allergy Intolerance                                6. 过敏体质，如对两种或以上药物或食物过敏史者；或已知对本药成分过敏者。\n",
      "[INFO] Processing: 1190/2000 \t Addictive Behavior                                 9.酒精或药物依赖者，有精神药物滥用史，有癫痫史；\n",
      "[INFO] Processing: 1200/2000 \t Therapy or Surgery                                 4、排除入组前1个月已经或正在接受系统的心理治疗。\n",
      "[INFO] Processing: 1210/2000 \t Consent                                            5.愿意签署知情同意书；\n",
      "[INFO] Processing: 1220/2000 \t Consent                                            ③ 详细告知研究相关事宜，病人及家属书面知情同意。\n",
      "[INFO] Processing: 1230/2000 \t Age                                                （2）年龄18-65岁；\n",
      "[INFO] Processing: 1240/2000 \t Diagnostic                                         2)符合持续性变应性鼻炎诊断标准；\n",
      "[INFO] Processing: 1250/2000 \t Enrollment in other studies                        2. 三个月内参加过其他临床研究患者\n",
      "[INFO] Processing: 1260/2000 \t Allergy Intolerance                                2)已知对研究药物的活性成份或其它成份过敏的患者；\n",
      "[INFO] Processing: 1270/2000 \t Diagnostic                                         1、临床确诊或高度怀疑存在感染；\n",
      "[INFO] Processing: 1280/2000 \t Therapy or Surgery                                 2、右半肝切除后需要行管道重建者；\n",
      "[INFO] Processing: 1290/2000 \t Disease                                            严重心律不齐；   \n",
      "[INFO] Processing: 1300/2000 \t Consent                                            1）试验前签署知情同意书、并对试验内容、过程及可能出现的不良反应充分了解；\n",
      "[INFO] Processing: 1310/2000 \t Laboratory Examinations                            4.肾功能：血肌酐≤150 umol/L；\n",
      "[INFO] Processing: 1320/2000 \t Consent                                            5.拒绝合作的患者 \n",
      "[INFO] Processing: 1330/2000 \t Disease                                            （3）B 超示肿瘤局限甲状腺内，每病灶最大径 ≤ 4cm；\n",
      "[INFO] Processing: 1340/2000 \t Allergy Intolerance                                11)不能耐受静脉采血；\n",
      "[INFO] Processing: 1350/2000 \t Pharmaceutical Substance or Drug                   E、术前正在服用镇痛药、降血压药、抗心律失常药及抗精神病药；\n",
      "[INFO] Processing: 1360/2000 \t Laboratory Examinations                            (2)Cobb角为10°-20°；\n",
      "[INFO] Processing: 1370/2000 \t Laboratory Examinations                            （2）外伤或剥脱性骨软骨炎引起的软骨缺损；\n",
      "[INFO] Processing: 1380/2000 \t Laboratory Examinations                            血浆谷丙转氨酶（ALT）谷草转氨酶（AST）低于2.5倍正常值上限\n",
      "[INFO] Processing: 1390/2000 \t Enrollment in other studies                        4.参与其他临床试验\n",
      "[INFO] Processing: 1400/2000 \t Laboratory Examinations                            6）卧位收缩压&lt;90mmHg或&gt;180mmHg；\n",
      "[INFO] Processing: 1410/2000 \t Disease                                            h.任何对眼睛健康有不利影响的系统疾病，例如糖尿病、Graves病和自身免疫性疾病如强直性脊柱炎、多发性硬化、干燥综合征和系统性红斑狼疮。诸如系统性高血压和关节炎等疾病不会自动排除潜在受试者；\n",
      "[INFO] Processing: 1420/2000 \t Disease                                            5. 有任何哮喘病史者；\n",
      "[INFO] Processing: 1430/2000 \t Laboratory Examinations                            静脉移植物的经皮冠状动脉介入；\n",
      "[INFO] Processing: 1440/2000 \t Consent                                            4、签署知情同意书。\n",
      "[INFO] Processing: 1450/2000 \t Age                                                2.年龄＜18岁  \n",
      "[INFO] Processing: 1460/2000 \t Disease                                            c）脑卒中首次发病，伴有躯干姿势控制障碍的患者；\n",
      "[INFO] Processing: 1470/2000 \t Therapy or Surgery                                 [1]无内眼手术史 \n",
      "[INFO] Processing: 1480/2000 \t Allergy Intolerance                                1）具有癫痫病史或其他中枢神经系统疾病者；\n",
      "[INFO] Processing: 1490/2000 \t Diagnostic                                         3. 符合中医气阴两虚兼热证者；\n",
      "[INFO] Processing: 1500/2000 \t Age                                                年龄：18岁以上  \n",
      "[INFO] Processing: 1510/2000 \t Laboratory Examinations                            3)DSA显示颈动脉夹层、颈段颈动脉完全闭塞或血管炎；\n",
      "[INFO] Processing: 1520/2000 \t Therapy or Surgery                                 4.距离手术时间不超过3个月；\n",
      "[INFO] Processing: 1530/2000 \t Laboratory Examinations                            4. 吸烟者。   \n",
      "[INFO] Processing: 1540/2000 \t Therapy or Surgery                                 4)三月内接受关节腔注射治疗\n",
      "[INFO] Processing: 1550/2000 \t Laboratory Examinations                            3) BMI18～30kg.m-2；\n",
      "[INFO] Processing: 1560/2000 \t Laboratory Examinations                            2. 在入选之前12月，至少有一次房颤史记录；\n",
      "[INFO] Processing: 1570/2000 \t Risk Assessment                                    GCS评分GCS 4-10，或GCS评分在伤后进行性下降至4-10分；\n"
     ]
    },
    {
     "name": "stdout",
     "output_type": "stream",
     "text": [
      "[INFO] Processing: 1580/2000 \t Allergy Intolerance                                11、对试验药组成成分过敏者以及过敏体质者；\n",
      "[INFO] Processing: 1590/2000 \t Laboratory Examinations                            (7)目前免疫抑制治療（超過40毫克的糖皮質激素，每天或硫唑嘌呤）\n",
      "[INFO] Processing: 1600/2000 \t Disease                                            8.精神、神经障碍，不能正确表达意愿及沟通障碍者；\n",
      "[INFO] Processing: 1610/2000 \t Diagnostic                                         2.股骨干的定义：根据OTA定义，股骨干是指近端位于股骨小转子下水平以远，远端股骨髁间宽度为边长的正方形区域以近的部分。\n",
      "[INFO] Processing: 1620/2000 \t Diagnostic                                         2）病理学或临床检查确诊为肝细胞癌患者；\n",
      "[INFO] Processing: 1630/2000 \t Therapy or Surgery                                 （4）预计患者存活时间小于48小时\n",
      "[INFO] Processing: 1640/2000 \t Age                                                ⑸满18周岁。   \n",
      "[INFO] Processing: 1650/2000 \t Consent                                            1．在执行任何研究方案规定的程序之前，完全解释本研究的性质并且必须取得受试者的知情同意。如受试者没有能力表达意见，可由受试者的法定代理人签署书面知情同意；\n",
      "[INFO] Processing: 1660/2000 \t Risk Assessment                                    （3）睡眠严重程度量表（Insomnia Severity Index, ISI）评分≥11分；\n",
      "[INFO] Processing: 1670/2000 \t Laboratory Examinations                            （3）肝功能检测值（ALT、AST）超过正常值上限1.5倍；血肌酐异常；血糖及餐后2小时血糖异常；尿蛋白&gt;＋；血白细胞小于3.0×109/L或大于10.0×109/L；和/或中性粒细胞百分率超过正常值5%；\n",
      "[INFO] Processing: 1680/2000 \t Risk Assessment                                    4)患者特点：ECOG（Eastern Cooperative Oncology Group）体力状态评分≤1；\n",
      "[INFO] Processing: 1690/2000 \t Allergy Intolerance                                c)一般情况差，心血管、呼吸、肝、肾或其他主要系统功能障碍；\n",
      "[INFO] Processing: 1700/2000 \t Disease                                            3.相关医疗记录足够评估病人心血管疾病风险。\n",
      "[INFO] Processing: 1710/2000 \t Therapy or Surgery                                 1)之前已针对前列腺癌进行过任何全身性治疗（包括新辅助及辅助化疗、靶向药物治疗、试验性治疗等）；\n",
      "[INFO] Processing: 1720/2000 \t Organ or Tissue Status                             ⑤有明显肝肾功能损害者；\n",
      "[INFO] Processing: 1730/2000 \t Laboratory Examinations                            ?肾移植术≥6个月 \n",
      "[INFO] Processing: 1740/2000 \t Pharmaceutical Substance or Drug                   E、在用CAP照射过后的卡波姆凝胶过程中未使用过外用药物及其他物理、化学方法治疗；\n",
      "[INFO] Processing: 1750/2000 \t Age                                                患者BMI在19-29之间\n",
      "[INFO] Processing: 1760/2000 \t Age                                                d. 年龄介于18-65周岁；\n",
      "[INFO] Processing: 1770/2000 \t Age                                                1.年龄18-80岁；\n",
      "[INFO] Processing: 1780/2000 \t Addictive Behavior                                 7)有吸毒和/或酗酒史（每周饮用14个单位的酒精：1单位=啤酒285 mL，或烈酒25 mL，或葡萄酒约100ml）。\n",
      "[INFO] Processing: 1790/2000 \t Laboratory Examinations                            ⑶标本培养分离出革兰阴性杆菌；\n",
      "[INFO] Processing: 1800/2000 \t Laboratory Examinations                            （7）血常规：血红蛋白≧90g/L；中性粒细胞计数≧1.5×109/L；血小板计数≧100×109/L；\n",
      "[INFO] Processing: 1810/2000 \t Laboratory Examinations                            3）头部外伤史；  \n",
      "[INFO] Processing: 1820/2000 \t Diagnostic                                         2. 符合中华医学会呼吸病学分会制定《慢性阻塞性肺疾病诊治指南》（2007年修订版）诊断标准的慢性阻塞性肺疾病急性加重的患者\n",
      "[INFO] Processing: 1830/2000 \t Consent                                            （4）受试者完全理解并自愿签署知情同意书。\n",
      "[INFO] Processing: 1840/2000 \t Consent                                            3) 同意参加本研究并签署知情同意书者；\n",
      "[INFO] Processing: 1850/2000 \t Risk Assessment                                    2. 18.5kg/m2 &lt;= BMI &lt;= 30kg/m2（BMI=体重/ 身高2）；\n",
      "[INFO] Processing: 1860/2000 \t Therapy or Surgery                                 脱位时间超过1小时；\n",
      "[INFO] Processing: 1870/2000 \t Allergy Intolerance                                4）有其他药物和生物制剂过敏史，或其他过敏史者。\n",
      "[INFO] Processing: 1880/2000 \t Allergy Intolerance                                2、对埃克替尼、培美曲塞、多西他赛或卡铂等药物过敏或不能耐受者；\n",
      "[INFO] Processing: 1890/2000 \t Allergy Intolerance                                1.患者对阿司匹林、肝素、氯吡格雷、噻氯匹定以及Zotarolimus、雷帕霉素、他克莫司、西罗莫司或任何类似药物，或任何衍生物之类的药物、钴、铬、镍、钼或造影剂有超敏或过敏反应。\n",
      "[INFO] Processing: 1900/2000 \t Laboratory Examinations                            3.高旋转中心重建髋臼\n",
      "[INFO] Processing: 1910/2000 \t Laboratory Examinations                            4、Child-pugh A；\n",
      "[INFO] Processing: 1920/2000 \t Therapy or Surgery                                 c)未经其它骨质疏松类药物治疗或者其它骨质疏松药停用12周以上；\n",
      "[INFO] Processing: 1930/2000 \t Age                                                ⑺年龄在18至75岁之间。\n",
      "[INFO] Processing: 1940/2000 \t Enrollment in other studies                        （12）试验前3个月参加过其他临床研究者；\n",
      "[INFO] Processing: 1950/2000 \t Enrollment in other studies                        9.本研究筛查前30天内参加过其他临床试验；\n",
      "[INFO] Processing: 1960/2000 \t Risk Assessment                                    8）体力状况评分ECOG 0～2级；\n",
      "[INFO] Processing: 1970/2000 \t Organ or Tissue Status                             1.配偶或伴侣生殖功能异常;\n",
      "[INFO] Processing: 1980/2000 \t Consent                                            3.签署知情同意书。\n",
      "[INFO] Processing: 1990/2000 \t Risk Assessment                                    4) BMI:19-29 kg/m2；\n",
      "[INFO] Processing: 2000/2000 \t Diagnostic                                         3、 西医诊断标准：采用ICD-10诊断标准F41.1广泛性焦虑障碍、F41.2焦虑和抑郁混合障碍诊断标准。\n"
     ]
    }
   ],
   "source": [
    "# 预测测试集数据的结果，并保存为文件test.predict\n",
    "import codecs\n",
    "test_sentences = list(test_data[\"sentence\"])\n",
    "n = 0\n",
    "with codecs.open(\"../data/test.KNN.predict\", \"w\", encoding=\"utf-8\") as f:\n",
    "    for s in test_sentences:\n",
    "        n += 1\n",
    "        c = predict(s) # 预测\n",
    "        f.write(\"s{}\\t{}\\t{}\\n\".format(n,c,s)) # 保存\n",
    "        # 显示进度\n",
    "        if n%10 ==0: print(\"[INFO] Processing: {0}/{1} \\t {2:<50s} {3:10s}\".format(str(n), str(len(test_sentences)), c, s))"
   ]
  },
  {
   "cell_type": "markdown",
   "metadata": {},
   "source": [
    "### 4.4 系统评估"
   ]
  },
  {
   "cell_type": "code",
   "execution_count": 19,
   "metadata": {
    "scrolled": false
   },
   "outputs": [
    {
     "name": "stdout",
     "output_type": "stream",
     "text": [
      "**************************************** Evaluation Results ****************************************\n",
      "                                       Precision.       Recall.          f1.            \n",
      "                 Addictive Behavior    0.8750           0.8400           0.8571         \n",
      "                                Age    0.9325           0.9560           0.9441         \n",
      "                Allergy Intolerance    0.8947           0.9444           0.9189         \n",
      "           Compliance with Protocol    0.8696           0.8108           0.8392         \n",
      "                            Consent    0.9906           0.9589           0.9745         \n",
      "                         Diagnostic    0.8232           0.8232           0.8232         \n",
      "                            Disease    0.7882           0.6837           0.7322         \n",
      "        Enrollment in other studies    0.9053           0.9556           0.9297         \n",
      "            Laboratory Examinations    0.5730           0.8351           0.6797         \n",
      "                    Life Expectancy    0.8519           0.8846           0.8679         \n",
      "             Organ or Tissue Status    0.8814           0.8000           0.8387         \n",
      "   Pharmaceutical Substance or Drug    0.8062           0.7222           0.7619         \n",
      "                    Risk Assessment    0.9367           0.6852           0.7914         \n",
      "                     Smoking Status    0.2857           0.2222           0.2500         \n",
      "                 Therapy or Surgery    0.7454           0.7537           0.7495         \n",
      "                                       ---------------  ---------------  ---------------\n",
      "                    Overall (micro)    0.8150           0.8150           0.815000       \n",
      "                    Overall (macro)    0.8106           0.7917           0.797212(final ranking metric)                  \n"
     ]
    }
   ],
   "source": [
    "import sys\n",
    "sys.path.append(\"../code\")\n",
    "import evaluation\n",
    "results = evaluation.Record_results('../data/test.gold', '../data/test.KNN.predict')\n",
    "evaluation = evaluation.Evaluation(results.records)"
   ]
  },
  {
   "cell_type": "code",
   "execution_count": null,
   "metadata": {},
   "outputs": [],
   "source": []
  }
 ],
 "metadata": {
  "kernelspec": {
   "display_name": "Python 3",
   "language": "python",
   "name": "python3"
  },
  "language_info": {
   "codemirror_mode": {
    "name": "ipython",
    "version": 3
   },
   "file_extension": ".py",
   "mimetype": "text/x-python",
   "name": "python",
   "nbconvert_exporter": "python",
   "pygments_lexer": "ipython3",
   "version": "3.7.3"
  },
  "toc": {
   "base_numbering": 1,
   "nav_menu": {},
   "number_sections": true,
   "sideBar": true,
   "skip_h1_title": false,
   "title_cell": "Table of Contents",
   "title_sidebar": "Contents",
   "toc_cell": false,
   "toc_position": {
    "height": "calc(100% - 180px)",
    "left": "10px",
    "top": "150px",
    "width": "207px"
   },
   "toc_section_display": true,
   "toc_window_display": true
  }
 },
 "nbformat": 4,
 "nbformat_minor": 2
}
